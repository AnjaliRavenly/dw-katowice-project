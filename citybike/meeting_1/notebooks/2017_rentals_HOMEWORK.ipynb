{
 "cells": [
  {
   "cell_type": "markdown",
   "metadata": {},
   "source": [
    "<h1>CITYBIKE 2017"
   ]
  },
  {
   "cell_type": "markdown",
   "metadata": {},
   "source": [
    "<h3>Import the data, add additional columns and start the analysis."
   ]
  },
  {
   "cell_type": "code",
   "execution_count": 60,
   "metadata": {},
   "outputs": [],
   "source": [
    "import pandas as pd\n",
    "import numpy as np\n",
    "import datetime"
   ]
  },
  {
   "cell_type": "code",
   "execution_count": 61,
   "metadata": {},
   "outputs": [],
   "source": [
    "#import dataset\n",
    "df2017 = pd.read_csv('wyp_2017.csv')"
   ]
  },
  {
   "cell_type": "code",
   "execution_count": 62,
   "metadata": {},
   "outputs": [
    {
     "data": {
      "text/plain": [
       "(102256, 6)"
      ]
     },
     "execution_count": 62,
     "metadata": {},
     "output_type": "execute_result"
    }
   ],
   "source": [
    "#check the size\n",
    "df2017.shape"
   ]
  },
  {
   "cell_type": "code",
   "execution_count": 63,
   "metadata": {},
   "outputs": [
    {
     "data": {
      "text/html": [
       "<div>\n",
       "<style scoped>\n",
       "    .dataframe tbody tr th:only-of-type {\n",
       "        vertical-align: middle;\n",
       "    }\n",
       "\n",
       "    .dataframe tbody tr th {\n",
       "        vertical-align: top;\n",
       "    }\n",
       "\n",
       "    .dataframe thead th {\n",
       "        text-align: right;\n",
       "    }\n",
       "</style>\n",
       "<table border=\"1\" class=\"dataframe\">\n",
       "  <thead>\n",
       "    <tr style=\"text-align: right;\">\n",
       "      <th></th>\n",
       "      <th>bike_num</th>\n",
       "      <th>start_time</th>\n",
       "      <th>end_time</th>\n",
       "      <th>departure</th>\n",
       "      <th>return</th>\n",
       "      <th>duration_sec</th>\n",
       "    </tr>\n",
       "  </thead>\n",
       "  <tbody>\n",
       "    <tr>\n",
       "      <th>0</th>\n",
       "      <td>58516</td>\n",
       "      <td>2017-05-01 00:26:45</td>\n",
       "      <td>2017-05-01 01:04:49</td>\n",
       "      <td>Al. Bolesława Krzywoustego</td>\n",
       "      <td>Al. Bolesława Krzywoustego</td>\n",
       "      <td>2284</td>\n",
       "    </tr>\n",
       "    <tr>\n",
       "      <th>1</th>\n",
       "      <td>58416</td>\n",
       "      <td>2017-05-01 00:26:28</td>\n",
       "      <td>2017-05-01 01:05:08</td>\n",
       "      <td>Al. Bolesława Krzywoustego</td>\n",
       "      <td>Al. Bolesława Krzywoustego</td>\n",
       "      <td>2320</td>\n",
       "    </tr>\n",
       "    <tr>\n",
       "      <th>2</th>\n",
       "      <td>58498</td>\n",
       "      <td>2017-05-01 01:23:07</td>\n",
       "      <td>2017-05-01 03:04:20</td>\n",
       "      <td>Al. Księżnej Jadwigi Śląskiej</td>\n",
       "      <td>Al. Księcia Henryka Pobożnego</td>\n",
       "      <td>6073</td>\n",
       "    </tr>\n",
       "    <tr>\n",
       "      <th>3</th>\n",
       "      <td>58389</td>\n",
       "      <td>2017-05-01 06:23:11</td>\n",
       "      <td>2017-05-01 08:25:08</td>\n",
       "      <td>Katowice Rynek</td>\n",
       "      <td>Katowice Rynek</td>\n",
       "      <td>7317</td>\n",
       "    </tr>\n",
       "    <tr>\n",
       "      <th>4</th>\n",
       "      <td>58520</td>\n",
       "      <td>2017-05-01 09:06:31</td>\n",
       "      <td>2017-05-01 09:07:04</td>\n",
       "      <td>Al. Księżnej Jadwigi Śląskiej</td>\n",
       "      <td>Al. Księżnej Jadwigi Śląskiej</td>\n",
       "      <td>33</td>\n",
       "    </tr>\n",
       "  </tbody>\n",
       "</table>\n",
       "</div>"
      ],
      "text/plain": [
       "   bike_num           start_time             end_time  \\\n",
       "0     58516  2017-05-01 00:26:45  2017-05-01 01:04:49   \n",
       "1     58416  2017-05-01 00:26:28  2017-05-01 01:05:08   \n",
       "2     58498  2017-05-01 01:23:07  2017-05-01 03:04:20   \n",
       "3     58389  2017-05-01 06:23:11  2017-05-01 08:25:08   \n",
       "4     58520  2017-05-01 09:06:31  2017-05-01 09:07:04   \n",
       "\n",
       "                       departure                         return  duration_sec  \n",
       "0     Al. Bolesława Krzywoustego     Al. Bolesława Krzywoustego          2284  \n",
       "1     Al. Bolesława Krzywoustego     Al. Bolesława Krzywoustego          2320  \n",
       "2  Al. Księżnej Jadwigi Śląskiej  Al. Księcia Henryka Pobożnego          6073  \n",
       "3                 Katowice Rynek                 Katowice Rynek          7317  \n",
       "4  Al. Księżnej Jadwigi Śląskiej  Al. Księżnej Jadwigi Śląskiej            33  "
      ]
     },
     "execution_count": 63,
     "metadata": {},
     "output_type": "execute_result"
    }
   ],
   "source": [
    "#check it out\n",
    "df2017.head(5)"
   ]
  },
  {
   "cell_type": "code",
   "execution_count": 64,
   "metadata": {},
   "outputs": [],
   "source": [
    "#create additional TIME columns so it would be easier to manipulate the data\n",
    "df2017['start_day'] = pd.DatetimeIndex(df2017['start_time']).day\n",
    "df2017['start_month'] = pd.DatetimeIndex(df2017['start_time']).month\n",
    "df2017['start_hour'] = pd.DatetimeIndex(df2017['start_time']).hour\n",
    "df2017['start_minute'] = pd.DatetimeIndex(df2017['start_time']).minute\n",
    "df2017['month_day'] = pd.DatetimeIndex(df2017['start_time']).date\n",
    "df2017['duration_min'] = df2017['duration_sec']/60\n",
    "df2017['duration_hour'] = (df2017['duration_min']/60).apply(int)\n",
    "#which day of week was it? monday = 0, sunday = 6\n",
    "df2017['which_day'] = pd.DatetimeIndex(df2017['start_time']).dayofweek\n",
    "#which day of year was it?\n",
    "df2017['daynumber'] = pd.DatetimeIndex(df2017['start_time']).dayofyear\n",
    "#was it weekend?\n",
    "df2017['is_weekend'] = df2017['which_day'].apply(lambda x: 1 if (x == 6 or x == 5 ) else 0 )\n",
    "#was it a day of because of holidays/other events?\n",
    "free=[ datetime.date(2017,1,1),\n",
    "        datetime.date(2017,1,6),\n",
    "        datetime.date(2017,4,16),\n",
    "        datetime.date(2017,4,17),\n",
    "        datetime.date(2017,5,1),\n",
    "        datetime.date(2017,5,3),\n",
    "        datetime.date(2017,6,4),\n",
    "        datetime.date(2017,6,15),\n",
    "        datetime.date(2017,8,15),\n",
    "        datetime.date(2017,11,1),\n",
    "        datetime.date(2017,11,11),\n",
    "        datetime.date(2017,12,25),\n",
    "        datetime.date(2017,12,26)\n",
    "        ]\n",
    "df2017['is_free'] = df2017['month_day'].apply(lambda x: 1 if (x in free) else 0 )"
   ]
  },
  {
   "cell_type": "code",
   "execution_count": 65,
   "metadata": {},
   "outputs": [],
   "source": [
    "#create additional column for routes\n",
    "df2017[\"route\"] = df2018[\"departure\"] + ' - ' + df2018[\"return\"]"
   ]
  },
  {
   "cell_type": "markdown",
   "metadata": {},
   "source": [
    "<h3>Basic analysis."
   ]
  },
  {
   "cell_type": "markdown",
   "metadata": {},
   "source": [
    "<h3>Remove unnecessary data."
   ]
  },
  {
   "cell_type": "code",
   "execution_count": 66,
   "metadata": {},
   "outputs": [
    {
     "name": "stdout",
     "output_type": "stream",
     "text": [
      "Number of rentals that last < 3 minutes:  13325\n",
      "Percentage : 0.13 \n"
     ]
    }
   ],
   "source": [
    "#Before we start, we need to get rid of data that is disturbing our results. We assume, that if the bike was\n",
    "#returned after < 3 minutes, it might be damaged or someone just changed his mind\n",
    "to_dump = df2017[(df2017['duration_min'] < 3) & (df2017['departure'] == df2017['return'])].index\n",
    "\n",
    "print('Number of rentals that last < 3 minutes: ', df2017[(df2017['duration_min'] < 3) & (df2017['departure'] == df2017['return'])]['bike_num'].count())\n",
    "print('Percentage : {0:.2f} '.format(df2017[(df2017['duration_min'] < 3) & (df2017['departure'] == df2017['return'])]['bike_num'].count()/df2017['duration_min'].count()))"
   ]
  },
  {
   "cell_type": "code",
   "execution_count": 67,
   "metadata": {},
   "outputs": [
    {
     "data": {
      "text/plain": [
       "duration_hour\n",
       "0    85456\n",
       "1    10752\n",
       "2     3852\n",
       "3     1356\n",
       "4      455\n",
       "5      134\n",
       "6       65\n",
       "7       36\n",
       "8       35\n",
       "9       16\n",
       "Name: bike_num, dtype: int64"
      ]
     },
     "execution_count": 67,
     "metadata": {},
     "output_type": "execute_result"
    }
   ],
   "source": [
    "#for how long (in hours) are the bikes being rented?\n",
    "df2017.groupby('duration_hour')['bike_num'].count().head(10)"
   ]
  },
  {
   "cell_type": "code",
   "execution_count": 32,
   "metadata": {},
   "outputs": [
    {
     "name": "stdout",
     "output_type": "stream",
     "text": [
      "rentals that last more than 3 hours:  0\n",
      "Percentage:  0.00 \n"
     ]
    }
   ],
   "source": [
    "#rentals that last more than 3 hours\n",
    "to_dump2 = df2017[df2017['duration_hour'] >3]['bike_num'].index\n",
    "print('rentals that last more than 3 hours: ', df2017[df2017['duration_hour'] >3]['bike_num'].count())\n",
    "print('Percentage:  {0:.2f} '.format(df2017[df2017['duration_hour'] >3]['bike_num'].count()/df2017['duration_hour'].count()))"
   ]
  },
  {
   "cell_type": "code",
   "execution_count": 33,
   "metadata": {},
   "outputs": [],
   "source": [
    "#let's remove the outliers\n",
    "#rentals that last more than 3 hours are less than 1% of dataset, we will remove them\n",
    "# we will also remove all rentals under 3 minutes\n",
    "df2017 = df2017.drop(to_dump.union(to_dump2))"
   ]
  },
  {
   "cell_type": "code",
   "execution_count": 34,
   "metadata": {},
   "outputs": [],
   "source": [
    "#let's save what we have so far\n",
    "df2017.to_csv('df2017_add.csv')"
   ]
  },
  {
   "cell_type": "code",
   "execution_count": 35,
   "metadata": {},
   "outputs": [
    {
     "data": {
      "text/plain": [
       "(88091, 18)"
      ]
     },
     "execution_count": 35,
     "metadata": {},
     "output_type": "execute_result"
    }
   ],
   "source": [
    "#check out what's left\n",
    "df2017.shape"
   ]
  },
  {
   "cell_type": "markdown",
   "metadata": {},
   "source": [
    "<h3>Get general info."
   ]
  },
  {
   "cell_type": "code",
   "execution_count": 36,
   "metadata": {},
   "outputs": [
    {
     "name": "stdout",
     "output_type": "stream",
     "text": [
      "Bikes were available for 202 days.\n",
      "Bikes were available for 8 months.\n"
     ]
    }
   ],
   "source": [
    "#For how many days and months were the bikes available for rental?\n",
    "print('Bikes were available for {0} days.'.format(df2017['month_day'].nunique()))\n",
    "print('Bikes were available for {0} months.'.format(df2017['start_month'].nunique()))"
   ]
  },
  {
   "cell_type": "code",
   "execution_count": 37,
   "metadata": {},
   "outputs": [
    {
     "name": "stdout",
     "output_type": "stream",
     "text": [
      "284 bikes were available for rental.\n",
      "They were rented 88091 times.\n"
     ]
    }
   ],
   "source": [
    "#how many rentals and bikes were there?\n",
    "print('{0} bikes were available for rental.'.format(df2017['bike_num'].nunique()))\n",
    "print('They were rented {0} times.'.format(df2017['bike_num'].count()))"
   ]
  },
  {
   "cell_type": "code",
   "execution_count": 38,
   "metadata": {},
   "outputs": [
    {
     "name": "stdout",
     "output_type": "stream",
     "text": [
      "The average time of a rental is:\n"
     ]
    },
    {
     "data": {
      "text/plain": [
       "34.62957339569241"
      ]
     },
     "execution_count": 38,
     "metadata": {},
     "output_type": "execute_result"
    }
   ],
   "source": [
    "#The average time of a rental:\n",
    "print('The average time of a rental is:')\n",
    "df2017['duration_min'].mean()"
   ]
  },
  {
   "cell_type": "code",
   "execution_count": 39,
   "metadata": {},
   "outputs": [
    {
     "name": "stdout",
     "output_type": "stream",
     "text": [
      "The median of time of a rental is: \n"
     ]
    },
    {
     "data": {
      "text/plain": [
       "14.683333333333334"
      ]
     },
     "execution_count": 39,
     "metadata": {},
     "output_type": "execute_result"
    }
   ],
   "source": [
    "#the median\n",
    "print('The median of time of a rental is: ')\n",
    "df2017['duration_min'].median()"
   ]
  },
  {
   "cell_type": "code",
   "execution_count": 40,
   "metadata": {},
   "outputs": [
    {
     "name": "stdout",
     "output_type": "stream",
     "text": [
      "The number of rentals under 15 minutes (they were free): \n"
     ]
    },
    {
     "data": {
      "text/plain": [
       "44673"
      ]
     },
     "execution_count": 40,
     "metadata": {},
     "output_type": "execute_result"
    }
   ],
   "source": [
    "#rentals under 15 minutes\n",
    "print('The number of rentals under 15 minutes (they were free): ')\n",
    "df2017[df2017['duration_min'] < 15]['bike_num'].count()"
   ]
  },
  {
   "cell_type": "code",
   "execution_count": 41,
   "metadata": {},
   "outputs": [
    {
     "name": "stdout",
     "output_type": "stream",
     "text": [
      "Percentage of free rides: 0.51\n"
     ]
    }
   ],
   "source": [
    "#wypozyczenia ponizej 15 minut jako procent\n",
    "print('Percentage of free rides: {0:.2f}'.format(df2017[df2017['duration_min'] < 15]['bike_num'].count()/(df2017['bike_num'].count())))"
   ]
  },
  {
   "cell_type": "markdown",
   "metadata": {},
   "source": [
    "<h3>More detailed info."
   ]
  },
  {
   "cell_type": "code",
   "execution_count": 42,
   "metadata": {},
   "outputs": [
    {
     "name": "stdout",
     "output_type": "stream",
     "text": [
      "The number of rentals per month:\n",
      "start_month\n",
      "4      3150\n",
      "5     21255\n",
      "6     20703\n",
      "7     15809\n",
      "8     14786\n",
      "9      6540\n",
      "10     5811\n",
      "11       37\n",
      "Name: bike_num, dtype: int64\n",
      "Most rentals in:  5\n"
     ]
    }
   ],
   "source": [
    "#number of rentals per month\n",
    "print('The number of rentals per month:')\n",
    "print(df2017.groupby('start_month')['bike_num'].count())\n",
    "print('Most rentals in: ', df2017.groupby('start_month')['bike_num'].count().sort_values(ascending=False).index[0])"
   ]
  },
  {
   "cell_type": "code",
   "execution_count": 43,
   "metadata": {},
   "outputs": [
    {
     "name": "stdout",
     "output_type": "stream",
     "text": [
      "The number of rentals per week:\n",
      "which_day\n",
      "0    13336\n",
      "1    12761\n",
      "2    13083\n",
      "3    12846\n",
      "4    11742\n",
      "5    11346\n",
      "6    12977\n",
      "Name: bike_num, dtype: int64\n",
      "Most rentals in:  0\n"
     ]
    }
   ],
   "source": [
    "#number of rentals per week\n",
    "print('The number of rentals per week:')\n",
    "print(df2017.groupby('which_day')['bike_num'].count())\n",
    "print('Most rentals in: ', df2017.groupby('which_day')['bike_num'].count().sort_values(ascending=False).index[0])"
   ]
  },
  {
   "cell_type": "code",
   "execution_count": 44,
   "metadata": {},
   "outputs": [
    {
     "name": "stdout",
     "output_type": "stream",
     "text": [
      "average time per week day:\n",
      "which_day\n",
      "0    30.995417\n",
      "1    29.794407\n",
      "2    30.598450\n",
      "3    30.478074\n",
      "4    30.009333\n",
      "5    41.192883\n",
      "6    49.734727\n",
      "Name: duration_min, dtype: float64\n"
     ]
    }
   ],
   "source": [
    "#average time per week day\n",
    "print('average time per week day:')\n",
    "print(df2017.groupby('which_day')['duration_min'].mean())"
   ]
  },
  {
   "cell_type": "code",
   "execution_count": 46,
   "metadata": {},
   "outputs": [
    {
     "name": "stdout",
     "output_type": "stream",
     "text": [
      "median time per week day:\n",
      "which_day\n",
      "0    13.300000\n",
      "1    12.766667\n",
      "2    12.983333\n",
      "3    13.266667\n",
      "4    13.083333\n",
      "5    21.150000\n",
      "6    30.333333\n",
      "Name: duration_min, dtype: float64\n"
     ]
    }
   ],
   "source": [
    "# median time per week day\n",
    "print('median time per week day:')\n",
    "print(df2017.groupby('which_day')['duration_min'].median())"
   ]
  },
  {
   "cell_type": "code",
   "execution_count": 47,
   "metadata": {},
   "outputs": [
    {
     "name": "stdout",
     "output_type": "stream",
     "text": [
      "Days with most rentals:\n"
     ]
    },
    {
     "data": {
      "text/plain": [
       "month_day\n",
       "2017-05-18    1124\n",
       "2017-05-17    1075\n",
       "2017-05-19    1015\n",
       "2017-05-28     984\n",
       "2017-06-01     968\n",
       "Name: bike_num, dtype: int64"
      ]
     },
     "execution_count": 47,
     "metadata": {},
     "output_type": "execute_result"
    }
   ],
   "source": [
    "#daily top score\n",
    "print('Days with most rentals:')\n",
    "df2017.groupby('month_day')['bike_num'].count().sort_values(ascending=False).head(5)"
   ]
  },
  {
   "cell_type": "code",
   "execution_count": 48,
   "metadata": {},
   "outputs": [
    {
     "data": {
      "text/plain": [
       "8"
      ]
     },
     "execution_count": 48,
     "metadata": {},
     "output_type": "execute_result"
    }
   ],
   "source": [
    "#how many holidays were there in 2018?\n",
    "df2017[df2017['is_free'] == 1].groupby('month_day').count().index.nunique()"
   ]
  },
  {
   "cell_type": "code",
   "execution_count": 49,
   "metadata": {},
   "outputs": [
    {
     "data": {
      "text/plain": [
       "3601"
      ]
     },
     "execution_count": 49,
     "metadata": {},
     "output_type": "execute_result"
    }
   ],
   "source": [
    "#how many rentals during holidays?\n",
    "df2017[df2017['is_free'] == 1]['bike_num'].count()"
   ]
  },
  {
   "cell_type": "code",
   "execution_count": 50,
   "metadata": {},
   "outputs": [
    {
     "name": "stdout",
     "output_type": "stream",
     "text": [
      "Percentage :  0.04\n"
     ]
    }
   ],
   "source": [
    "#how many rentals during holidays?\n",
    "print('Percentage :  {0:.2f}'.format(df2017[df2017['is_free'] == 1]['bike_num'].count()/(df2017['bike_num'].count())))"
   ]
  },
  {
   "cell_type": "code",
   "execution_count": 51,
   "metadata": {},
   "outputs": [
    {
     "name": "stdout",
     "output_type": "stream",
     "text": [
      "daily top score during holidays: \n"
     ]
    },
    {
     "data": {
      "text/plain": [
       "month_day\n",
       "2017-06-15    802\n",
       "2017-05-01    701\n",
       "2017-08-15    663\n",
       "2017-05-03    576\n",
       "2017-06-04    535\n",
       "Name: bike_num, dtype: int64"
      ]
     },
     "execution_count": 51,
     "metadata": {},
     "output_type": "execute_result"
    }
   ],
   "source": [
    "#daily top score during holidays\n",
    "print('daily top score during holidays: ')\n",
    "df2017[df2017['is_free'] == 1].groupby('month_day')['bike_num'].count().sort_values(ascending=False).head(5)"
   ]
  },
  {
   "cell_type": "code",
   "execution_count": 52,
   "metadata": {},
   "outputs": [
    {
     "name": "stdout",
     "output_type": "stream",
     "text": [
      "average number of rentals during working days:  442.8333333333333\n",
      "average number of rentals during weekends:  419.36206896551727\n",
      "average number of rentals during holidays:  450.125\n"
     ]
    }
   ],
   "source": [
    "# average number of rentals during working days vs weekends vs holidays\n",
    "print('average number of rentals during working days: ', df2017[df2017['is_weekend'] == 0]['bike_num'].count() / df2017[df2017['which_day'].isin(range(0,5))]['month_day'].nunique())\n",
    "print('average number of rentals during weekends: ', df2017[df2017['is_weekend'] == 1]['bike_num'].count() / df2017[df2017['which_day'].isin([5,6])]['month_day'].nunique())\n",
    "print('average number of rentals during holidays: ', df2017[df2017['is_free'] == 1]['bike_num'].count() / df2017[df2017['is_free'] == 1].groupby('month_day').count().index.nunique())"
   ]
  },
  {
   "cell_type": "code",
   "execution_count": 53,
   "metadata": {},
   "outputs": [
    {
     "name": "stdout",
     "output_type": "stream",
     "text": [
      "average time of rentals during working days:  30.387839511981237\n",
      "average time of rentals during weekends:  45.7501952884101\n",
      "average time of rentals during holidays:  57.709756549106785\n"
     ]
    }
   ],
   "source": [
    "# average time (in minutes) of rentals during working days vs weekends vs holidays\n",
    "print('average time of rentals during working days: ', df2017[df2017['is_weekend'] == 0]['duration_min'].mean())\n",
    "print('average time of rentals during weekends: ', df2017[df2017['is_weekend'] == 1]['duration_min'].mean())\n",
    "print('average time of rentals during holidays: ', df2017[df2017['is_free'] == 1]['duration_min'].mean())"
   ]
  },
  {
   "cell_type": "code",
   "execution_count": 54,
   "metadata": {},
   "outputs": [
    {
     "data": {
      "text/html": [
       "<div>\n",
       "<style scoped>\n",
       "    .dataframe tbody tr th:only-of-type {\n",
       "        vertical-align: middle;\n",
       "    }\n",
       "\n",
       "    .dataframe tbody tr th {\n",
       "        vertical-align: top;\n",
       "    }\n",
       "\n",
       "    .dataframe thead th {\n",
       "        text-align: right;\n",
       "    }\n",
       "</style>\n",
       "<table border=\"1\" class=\"dataframe\">\n",
       "  <thead>\n",
       "    <tr style=\"text-align: right;\">\n",
       "      <th></th>\n",
       "      <th>hour</th>\n",
       "      <th>sum_working</th>\n",
       "      <th>sum_weekends</th>\n",
       "      <th>sum_holidays</th>\n",
       "      <th>avg_working</th>\n",
       "      <th>avg_weekends</th>\n",
       "      <th>avg_holidays</th>\n",
       "      <th>avg_time_working</th>\n",
       "      <th>avg_time_weekends</th>\n",
       "      <th>avg_time_hoidays</th>\n",
       "    </tr>\n",
       "  </thead>\n",
       "  <tbody>\n",
       "    <tr>\n",
       "      <th>0</th>\n",
       "      <td>0</td>\n",
       "      <td>439</td>\n",
       "      <td>441</td>\n",
       "      <td>36</td>\n",
       "      <td>3.048611</td>\n",
       "      <td>7.603448</td>\n",
       "      <td>4.500</td>\n",
       "      <td>21.327828</td>\n",
       "      <td>26.009410</td>\n",
       "      <td>36.800000</td>\n",
       "    </tr>\n",
       "    <tr>\n",
       "      <th>1</th>\n",
       "      <td>1</td>\n",
       "      <td>231</td>\n",
       "      <td>356</td>\n",
       "      <td>17</td>\n",
       "      <td>1.604167</td>\n",
       "      <td>6.137931</td>\n",
       "      <td>2.125</td>\n",
       "      <td>19.635209</td>\n",
       "      <td>23.736657</td>\n",
       "      <td>24.438235</td>\n",
       "    </tr>\n",
       "    <tr>\n",
       "      <th>2</th>\n",
       "      <td>2</td>\n",
       "      <td>185</td>\n",
       "      <td>173</td>\n",
       "      <td>8</td>\n",
       "      <td>1.284722</td>\n",
       "      <td>2.982759</td>\n",
       "      <td>1.000</td>\n",
       "      <td>18.837027</td>\n",
       "      <td>22.824566</td>\n",
       "      <td>16.954167</td>\n",
       "    </tr>\n",
       "    <tr>\n",
       "      <th>3</th>\n",
       "      <td>3</td>\n",
       "      <td>70</td>\n",
       "      <td>158</td>\n",
       "      <td>8</td>\n",
       "      <td>0.486111</td>\n",
       "      <td>2.724138</td>\n",
       "      <td>1.000</td>\n",
       "      <td>21.392143</td>\n",
       "      <td>21.067722</td>\n",
       "      <td>6.945833</td>\n",
       "    </tr>\n",
       "    <tr>\n",
       "      <th>4</th>\n",
       "      <td>4</td>\n",
       "      <td>86</td>\n",
       "      <td>93</td>\n",
       "      <td>2</td>\n",
       "      <td>0.597222</td>\n",
       "      <td>1.603448</td>\n",
       "      <td>0.250</td>\n",
       "      <td>12.906783</td>\n",
       "      <td>19.471326</td>\n",
       "      <td>9.933333</td>\n",
       "    </tr>\n",
       "    <tr>\n",
       "      <th>5</th>\n",
       "      <td>5</td>\n",
       "      <td>200</td>\n",
       "      <td>82</td>\n",
       "      <td>10</td>\n",
       "      <td>1.388889</td>\n",
       "      <td>1.413793</td>\n",
       "      <td>1.250</td>\n",
       "      <td>16.494417</td>\n",
       "      <td>18.036992</td>\n",
       "      <td>9.951667</td>\n",
       "    </tr>\n",
       "    <tr>\n",
       "      <th>6</th>\n",
       "      <td>6</td>\n",
       "      <td>1191</td>\n",
       "      <td>101</td>\n",
       "      <td>15</td>\n",
       "      <td>8.270833</td>\n",
       "      <td>1.741379</td>\n",
       "      <td>1.875</td>\n",
       "      <td>13.708578</td>\n",
       "      <td>13.629043</td>\n",
       "      <td>23.432222</td>\n",
       "    </tr>\n",
       "    <tr>\n",
       "      <th>7</th>\n",
       "      <td>7</td>\n",
       "      <td>2993</td>\n",
       "      <td>148</td>\n",
       "      <td>13</td>\n",
       "      <td>20.784722</td>\n",
       "      <td>2.551724</td>\n",
       "      <td>1.625</td>\n",
       "      <td>12.522012</td>\n",
       "      <td>24.931081</td>\n",
       "      <td>56.962821</td>\n",
       "    </tr>\n",
       "    <tr>\n",
       "      <th>8</th>\n",
       "      <td>8</td>\n",
       "      <td>2368</td>\n",
       "      <td>332</td>\n",
       "      <td>42</td>\n",
       "      <td>16.444444</td>\n",
       "      <td>5.724138</td>\n",
       "      <td>5.250</td>\n",
       "      <td>16.033875</td>\n",
       "      <td>38.643223</td>\n",
       "      <td>52.030159</td>\n",
       "    </tr>\n",
       "    <tr>\n",
       "      <th>9</th>\n",
       "      <td>9</td>\n",
       "      <td>1973</td>\n",
       "      <td>522</td>\n",
       "      <td>74</td>\n",
       "      <td>13.701389</td>\n",
       "      <td>9.000000</td>\n",
       "      <td>9.250</td>\n",
       "      <td>18.675427</td>\n",
       "      <td>40.055140</td>\n",
       "      <td>52.138514</td>\n",
       "    </tr>\n",
       "    <tr>\n",
       "      <th>10</th>\n",
       "      <td>10</td>\n",
       "      <td>1970</td>\n",
       "      <td>808</td>\n",
       "      <td>143</td>\n",
       "      <td>13.680556</td>\n",
       "      <td>13.931034</td>\n",
       "      <td>17.875</td>\n",
       "      <td>29.168122</td>\n",
       "      <td>46.271205</td>\n",
       "      <td>65.608159</td>\n",
       "    </tr>\n",
       "    <tr>\n",
       "      <th>11</th>\n",
       "      <td>11</td>\n",
       "      <td>2491</td>\n",
       "      <td>1376</td>\n",
       "      <td>269</td>\n",
       "      <td>17.298611</td>\n",
       "      <td>23.724138</td>\n",
       "      <td>33.625</td>\n",
       "      <td>32.324374</td>\n",
       "      <td>54.426393</td>\n",
       "      <td>58.772119</td>\n",
       "    </tr>\n",
       "    <tr>\n",
       "      <th>12</th>\n",
       "      <td>12</td>\n",
       "      <td>3112</td>\n",
       "      <td>1659</td>\n",
       "      <td>363</td>\n",
       "      <td>21.611111</td>\n",
       "      <td>28.603448</td>\n",
       "      <td>45.375</td>\n",
       "      <td>33.071144</td>\n",
       "      <td>56.459474</td>\n",
       "      <td>73.668962</td>\n",
       "    </tr>\n",
       "    <tr>\n",
       "      <th>13</th>\n",
       "      <td>13</td>\n",
       "      <td>3250</td>\n",
       "      <td>1926</td>\n",
       "      <td>385</td>\n",
       "      <td>22.569444</td>\n",
       "      <td>33.206897</td>\n",
       "      <td>48.125</td>\n",
       "      <td>33.540164</td>\n",
       "      <td>55.269436</td>\n",
       "      <td>65.772468</td>\n",
       "    </tr>\n",
       "    <tr>\n",
       "      <th>14</th>\n",
       "      <td>14</td>\n",
       "      <td>3892</td>\n",
       "      <td>2075</td>\n",
       "      <td>367</td>\n",
       "      <td>27.027778</td>\n",
       "      <td>35.775862</td>\n",
       "      <td>45.875</td>\n",
       "      <td>32.524807</td>\n",
       "      <td>51.626900</td>\n",
       "      <td>69.284378</td>\n",
       "    </tr>\n",
       "    <tr>\n",
       "      <th>15</th>\n",
       "      <td>15</td>\n",
       "      <td>5554</td>\n",
       "      <td>2149</td>\n",
       "      <td>392</td>\n",
       "      <td>38.569444</td>\n",
       "      <td>37.051724</td>\n",
       "      <td>49.000</td>\n",
       "      <td>29.991790</td>\n",
       "      <td>59.369110</td>\n",
       "      <td>64.795281</td>\n",
       "    </tr>\n",
       "    <tr>\n",
       "      <th>16</th>\n",
       "      <td>16</td>\n",
       "      <td>6611</td>\n",
       "      <td>2282</td>\n",
       "      <td>383</td>\n",
       "      <td>45.909722</td>\n",
       "      <td>39.344828</td>\n",
       "      <td>47.875</td>\n",
       "      <td>32.519503</td>\n",
       "      <td>55.740483</td>\n",
       "      <td>61.604961</td>\n",
       "    </tr>\n",
       "    <tr>\n",
       "      <th>17</th>\n",
       "      <td>17</td>\n",
       "      <td>6261</td>\n",
       "      <td>2114</td>\n",
       "      <td>314</td>\n",
       "      <td>43.479167</td>\n",
       "      <td>36.448276</td>\n",
       "      <td>39.250</td>\n",
       "      <td>37.418413</td>\n",
       "      <td>51.550536</td>\n",
       "      <td>60.997665</td>\n",
       "    </tr>\n",
       "    <tr>\n",
       "      <th>18</th>\n",
       "      <td>18</td>\n",
       "      <td>5893</td>\n",
       "      <td>2057</td>\n",
       "      <td>264</td>\n",
       "      <td>40.923611</td>\n",
       "      <td>35.465517</td>\n",
       "      <td>33.000</td>\n",
       "      <td>39.424402</td>\n",
       "      <td>44.045649</td>\n",
       "      <td>47.638131</td>\n",
       "    </tr>\n",
       "    <tr>\n",
       "      <th>19</th>\n",
       "      <td>19</td>\n",
       "      <td>5493</td>\n",
       "      <td>1868</td>\n",
       "      <td>158</td>\n",
       "      <td>38.145833</td>\n",
       "      <td>32.206897</td>\n",
       "      <td>19.750</td>\n",
       "      <td>35.811712</td>\n",
       "      <td>37.299813</td>\n",
       "      <td>37.458122</td>\n",
       "    </tr>\n",
       "    <tr>\n",
       "      <th>20</th>\n",
       "      <td>20</td>\n",
       "      <td>4257</td>\n",
       "      <td>1469</td>\n",
       "      <td>148</td>\n",
       "      <td>29.562500</td>\n",
       "      <td>25.327586</td>\n",
       "      <td>18.500</td>\n",
       "      <td>30.450301</td>\n",
       "      <td>32.101974</td>\n",
       "      <td>27.453491</td>\n",
       "    </tr>\n",
       "    <tr>\n",
       "      <th>21</th>\n",
       "      <td>21</td>\n",
       "      <td>2673</td>\n",
       "      <td>991</td>\n",
       "      <td>104</td>\n",
       "      <td>18.562500</td>\n",
       "      <td>17.086207</td>\n",
       "      <td>13.000</td>\n",
       "      <td>26.788976</td>\n",
       "      <td>26.333216</td>\n",
       "      <td>25.481410</td>\n",
       "    </tr>\n",
       "    <tr>\n",
       "      <th>22</th>\n",
       "      <td>22</td>\n",
       "      <td>1568</td>\n",
       "      <td>700</td>\n",
       "      <td>57</td>\n",
       "      <td>10.888889</td>\n",
       "      <td>12.068966</td>\n",
       "      <td>7.125</td>\n",
       "      <td>25.252859</td>\n",
       "      <td>22.851762</td>\n",
       "      <td>30.362865</td>\n",
       "    </tr>\n",
       "    <tr>\n",
       "      <th>23</th>\n",
       "      <td>23</td>\n",
       "      <td>1007</td>\n",
       "      <td>443</td>\n",
       "      <td>29</td>\n",
       "      <td>6.993056</td>\n",
       "      <td>7.637931</td>\n",
       "      <td>3.625</td>\n",
       "      <td>23.497021</td>\n",
       "      <td>24.110196</td>\n",
       "      <td>29.544253</td>\n",
       "    </tr>\n",
       "  </tbody>\n",
       "</table>\n",
       "</div>"
      ],
      "text/plain": [
       "    hour  sum_working  sum_weekends  sum_holidays  avg_working  avg_weekends  \\\n",
       "0      0          439           441            36     3.048611      7.603448   \n",
       "1      1          231           356            17     1.604167      6.137931   \n",
       "2      2          185           173             8     1.284722      2.982759   \n",
       "3      3           70           158             8     0.486111      2.724138   \n",
       "4      4           86            93             2     0.597222      1.603448   \n",
       "5      5          200            82            10     1.388889      1.413793   \n",
       "6      6         1191           101            15     8.270833      1.741379   \n",
       "7      7         2993           148            13    20.784722      2.551724   \n",
       "8      8         2368           332            42    16.444444      5.724138   \n",
       "9      9         1973           522            74    13.701389      9.000000   \n",
       "10    10         1970           808           143    13.680556     13.931034   \n",
       "11    11         2491          1376           269    17.298611     23.724138   \n",
       "12    12         3112          1659           363    21.611111     28.603448   \n",
       "13    13         3250          1926           385    22.569444     33.206897   \n",
       "14    14         3892          2075           367    27.027778     35.775862   \n",
       "15    15         5554          2149           392    38.569444     37.051724   \n",
       "16    16         6611          2282           383    45.909722     39.344828   \n",
       "17    17         6261          2114           314    43.479167     36.448276   \n",
       "18    18         5893          2057           264    40.923611     35.465517   \n",
       "19    19         5493          1868           158    38.145833     32.206897   \n",
       "20    20         4257          1469           148    29.562500     25.327586   \n",
       "21    21         2673           991           104    18.562500     17.086207   \n",
       "22    22         1568           700            57    10.888889     12.068966   \n",
       "23    23         1007           443            29     6.993056      7.637931   \n",
       "\n",
       "    avg_holidays  avg_time_working  avg_time_weekends  avg_time_hoidays  \n",
       "0          4.500         21.327828          26.009410         36.800000  \n",
       "1          2.125         19.635209          23.736657         24.438235  \n",
       "2          1.000         18.837027          22.824566         16.954167  \n",
       "3          1.000         21.392143          21.067722          6.945833  \n",
       "4          0.250         12.906783          19.471326          9.933333  \n",
       "5          1.250         16.494417          18.036992          9.951667  \n",
       "6          1.875         13.708578          13.629043         23.432222  \n",
       "7          1.625         12.522012          24.931081         56.962821  \n",
       "8          5.250         16.033875          38.643223         52.030159  \n",
       "9          9.250         18.675427          40.055140         52.138514  \n",
       "10        17.875         29.168122          46.271205         65.608159  \n",
       "11        33.625         32.324374          54.426393         58.772119  \n",
       "12        45.375         33.071144          56.459474         73.668962  \n",
       "13        48.125         33.540164          55.269436         65.772468  \n",
       "14        45.875         32.524807          51.626900         69.284378  \n",
       "15        49.000         29.991790          59.369110         64.795281  \n",
       "16        47.875         32.519503          55.740483         61.604961  \n",
       "17        39.250         37.418413          51.550536         60.997665  \n",
       "18        33.000         39.424402          44.045649         47.638131  \n",
       "19        19.750         35.811712          37.299813         37.458122  \n",
       "20        18.500         30.450301          32.101974         27.453491  \n",
       "21        13.000         26.788976          26.333216         25.481410  \n",
       "22         7.125         25.252859          22.851762         30.362865  \n",
       "23         3.625         23.497021          24.110196         29.544253  "
      ]
     },
     "execution_count": 54,
     "metadata": {},
     "output_type": "execute_result"
    }
   ],
   "source": [
    "#number of working days during which you could rent a bike\n",
    "lr = df2017[df2017['which_day'].isin(range(0,5))]['month_day'].nunique()\n",
    "#number of weekend days during which you could rent a bike\n",
    "lw = df2017[df2017['which_day'].isin([5,6])]['month_day'].nunique()\n",
    "#number of holidays during which you could rent a bike\n",
    "sw = df2017[df2017['is_free'] == 1].groupby('month_day').count().index.nunique()\n",
    "\n",
    "#sum of rentals for hour interval during working days\n",
    "a = df2017[df2017['is_weekend'] == False].groupby('start_hour')['bike_num'].count()\n",
    "#sum of rentals for hour interval during weekends\n",
    "b = df2017[df2017['is_weekend'] == True].groupby('start_hour')['bike_num'].count()\n",
    "#sum of rentals for hour interval during holidays\n",
    "s = df2017[df2017['is_free'] == True].groupby('start_hour')['bike_num'].count()\n",
    "\n",
    "#average number of rentals  during working days\n",
    "c = df2017[df2017['is_weekend'] == False].groupby('start_hour')['bike_num'].count() / lr\n",
    "#average number of rentals  during working weekends\n",
    "d = df2017[df2017['is_weekend'] == True].groupby('start_hour')['bike_num'].count() / lw\n",
    "#average number of rentals  during working holidays\n",
    "t = df2017[df2017['is_free'] == True].groupby('start_hour')['bike_num'].count() / sw\n",
    "\n",
    "#average time  of rentals  during working days\n",
    "e = df2017[df2017['is_weekend'] == False].groupby('start_hour')['duration_min'].sum() / df2017[df2017['is_weekend'] == False].groupby('start_hour')['bike_num'].count()\n",
    "#average time  of rentals  during working weekends\n",
    "f = df2017[df2017['is_weekend'] == True].groupby('start_hour')['duration_min'].sum() / df2017[df2017['is_weekend'] == True].groupby('start_hour')['bike_num'].count()\n",
    "#average time  of rentals  during working holidays\n",
    "u = df2017[df2017['is_free'] == True].groupby('start_hour')['duration_min'].sum() / df2017[df2017['is_free'] == True].groupby('start_hour')['bike_num'].count()\n",
    "\n",
    "hour_data = {'hour' : a.index, 'sum_working' : a.values, 'sum_weekends' : b.values, 'sum_holidays' : s.values,\n",
    "             'avg_working' : c.values, 'avg_weekends' : d.values, 'avg_holidays' : t.values,\n",
    "             'avg_time_working' : e.values, 'avg_time_weekends' : f.values, 'avg_time_hoidays' : u.values}\n",
    "\n",
    "hourdf = pd.DataFrame(data=hour_data)\n",
    "hourdf"
   ]
  },
  {
   "cell_type": "code",
   "execution_count": 55,
   "metadata": {},
   "outputs": [
    {
     "name": "stdout",
     "output_type": "stream",
     "text": [
      "most popular departure stations: \n"
     ]
    },
    {
     "data": {
      "text/plain": [
       "departure\n",
       "Katowice Rynek                   15262\n",
       "Silesia City Center               4774\n",
       "KTBS – Krasińskiego 14            4680\n",
       "Murapol Mariacka                  4412\n",
       "Al. Księcia Henryka Pobożnego     4401\n",
       "Name: bike_num, dtype: int64"
      ]
     },
     "execution_count": 55,
     "metadata": {},
     "output_type": "execute_result"
    }
   ],
   "source": [
    "#most popular departure station\n",
    "print('most popular departure stations: ')\n",
    "df2017.groupby('departure')['bike_num'].count().sort_values(ascending=False).head()"
   ]
  },
  {
   "cell_type": "code",
   "execution_count": 56,
   "metadata": {},
   "outputs": [
    {
     "name": "stdout",
     "output_type": "stream",
     "text": [
      "most popular return stations: \n"
     ]
    },
    {
     "data": {
      "text/plain": [
       "return\n",
       "Katowice Rynek                   15598\n",
       "KTBS – Krasińskiego 14            4712\n",
       "Al. Bolesława Krzywoustego        4669\n",
       "Al. Księcia Henryka Pobożnego     4645\n",
       "Murapol Mariacka                  4423\n",
       "Name: bike_num, dtype: int64"
      ]
     },
     "execution_count": 56,
     "metadata": {},
     "output_type": "execute_result"
    }
   ],
   "source": [
    "#most popular return station\n",
    "print('most popular return stations: ')\n",
    "df2017.groupby('return')['bike_num'].count().sort_values(ascending=False).head()"
   ]
  },
  {
   "cell_type": "code",
   "execution_count": 57,
   "metadata": {},
   "outputs": [
    {
     "name": "stdout",
     "output_type": "stream",
     "text": [
      "most popular routes: \n"
     ]
    },
    {
     "data": {
      "text/plain": [
       "route\n",
       "Katowice Rynek - Katowice Rynek                                  2570\n",
       "Dolina 3-ch Stawów - Dolina 3-ch Stawów                          2509\n",
       "Al. Księcia Henryka Pobożnego - Al. Księcia Henryka Pobożnego    2430\n",
       "KTBS – Krasińskiego 14 - Katowice Rynek                          2033\n",
       "Katowice Rynek - KTBS – Krasińskiego 14                          1965\n",
       "Name: bike_num, dtype: int64"
      ]
     },
     "execution_count": 57,
     "metadata": {},
     "output_type": "execute_result"
    }
   ],
   "source": [
    "#most popular routes\n",
    "print('most popular routes: ')\n",
    "df2017.groupby('route')['bike_num'].count().sort_values(ascending=False).head()"
   ]
  },
  {
   "cell_type": "code",
   "execution_count": 58,
   "metadata": {},
   "outputs": [
    {
     "name": "stdout",
     "output_type": "stream",
     "text": [
      "most popular routes where departure != return: \n"
     ]
    },
    {
     "data": {
      "text/plain": [
       "route\n",
       "KTBS – Krasińskiego 14 - Katowice Rynek                2033\n",
       "Katowice Rynek - KTBS – Krasińskiego 14                1965\n",
       "Silesia City Center - Katowice Rynek                   1091\n",
       "Ul. Powstańców - Biblioteka Śląska - Katowice Rynek    1084\n",
       "Katowice Rynek - Ul. Powstańców - Biblioteka Śląska    1034\n",
       "Name: bike_num, dtype: int64"
      ]
     },
     "execution_count": 58,
     "metadata": {},
     "output_type": "execute_result"
    }
   ],
   "source": [
    "#most popular routes where departure != return\n",
    "print('most popular routes where departure != return: ')\n",
    "df2017[df2017['departure'] != df2017['return']].groupby('route')['bike_num'].count().sort_values(ascending=False).head()"
   ]
  },
  {
   "cell_type": "code",
   "execution_count": 59,
   "metadata": {},
   "outputs": [
    {
     "name": "stdout",
     "output_type": "stream",
     "text": [
      "ID of most rented bike and number of its rentals: \n"
     ]
    },
    {
     "data": {
      "text/plain": [
       "bike_num\n",
       "58521    591\n",
       "Name: duration_sec, dtype: int64"
      ]
     },
     "execution_count": 59,
     "metadata": {},
     "output_type": "execute_result"
    }
   ],
   "source": [
    "#most rented bike\n",
    "print('ID of most rented bike and number of its rentals: ')\n",
    "df2017.groupby('bike_num')['duration_sec'].count().sort_values(ascending=False).head(1)"
   ]
  }
 ],
 "metadata": {
  "kernelspec": {
   "display_name": "Python 3",
   "language": "python",
   "name": "python3"
  },
  "language_info": {
   "codemirror_mode": {
    "name": "ipython",
    "version": 3
   },
   "file_extension": ".py",
   "mimetype": "text/x-python",
   "name": "python",
   "nbconvert_exporter": "python",
   "pygments_lexer": "ipython3",
   "version": "3.7.3"
  }
 },
 "nbformat": 4,
 "nbformat_minor": 2
}
