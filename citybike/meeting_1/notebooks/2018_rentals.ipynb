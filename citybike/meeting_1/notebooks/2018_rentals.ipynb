{
 "cells": [
  {
   "cell_type": "markdown",
   "metadata": {},
   "source": [
    "<h1>CITYBIKE 2018"
   ]
  },
  {
   "cell_type": "markdown",
   "metadata": {},
   "source": [
    "<h3>Import the data, add additional columns and start the analysis."
   ]
  },
  {
   "cell_type": "code",
   "execution_count": 1,
   "metadata": {},
   "outputs": [],
   "source": [
    "import pandas as pd\n",
    "import numpy as np\n",
    "import datetime"
   ]
  },
  {
   "cell_type": "code",
   "execution_count": 2,
   "metadata": {},
   "outputs": [],
   "source": [
    "#import dataset\n",
    "df2018 = pd.read_csv('wyp_2018.csv')"
   ]
  },
  {
   "cell_type": "code",
   "execution_count": null,
   "metadata": {},
   "outputs": [],
   "source": [
    "#check the size\n",
    "df2018.shape()"
   ]
  },
  {
   "cell_type": "code",
   "execution_count": 1253,
   "metadata": {},
   "outputs": [
    {
     "data": {
      "text/html": [
       "<div>\n",
       "<style scoped>\n",
       "    .dataframe tbody tr th:only-of-type {\n",
       "        vertical-align: middle;\n",
       "    }\n",
       "\n",
       "    .dataframe tbody tr th {\n",
       "        vertical-align: top;\n",
       "    }\n",
       "\n",
       "    .dataframe thead th {\n",
       "        text-align: right;\n",
       "    }\n",
       "</style>\n",
       "<table border=\"1\" class=\"dataframe\">\n",
       "  <thead>\n",
       "    <tr style=\"text-align: right;\">\n",
       "      <th></th>\n",
       "      <th>bike_num</th>\n",
       "      <th>start_time</th>\n",
       "      <th>end_time</th>\n",
       "      <th>departure</th>\n",
       "      <th>return</th>\n",
       "      <th>duration_sec</th>\n",
       "    </tr>\n",
       "  </thead>\n",
       "  <tbody>\n",
       "    <tr>\n",
       "      <th>0</th>\n",
       "      <td>58388</td>\n",
       "      <td>2018-04-01 00:16:10</td>\n",
       "      <td>2018-04-01 00:20:17</td>\n",
       "      <td>Murapol Mariacka</td>\n",
       "      <td>KTBS – Krasińskiego 14</td>\n",
       "      <td>247</td>\n",
       "    </tr>\n",
       "    <tr>\n",
       "      <th>1</th>\n",
       "      <td>58745</td>\n",
       "      <td>2018-04-01 00:10:28</td>\n",
       "      <td>2018-04-01 00:20:28</td>\n",
       "      <td>Murapol Mariacka</td>\n",
       "      <td>KTBS – Krasińskiego 14</td>\n",
       "      <td>600</td>\n",
       "    </tr>\n",
       "    <tr>\n",
       "      <th>2</th>\n",
       "      <td>58547</td>\n",
       "      <td>2018-04-01 10:34:09</td>\n",
       "      <td>2018-04-01 10:41:38</td>\n",
       "      <td>KTBS – Krasińskiego 14</td>\n",
       "      <td>Katowice Rynek</td>\n",
       "      <td>449</td>\n",
       "    </tr>\n",
       "    <tr>\n",
       "      <th>3</th>\n",
       "      <td>58786</td>\n",
       "      <td>2018-04-01 11:31:14</td>\n",
       "      <td>2018-04-01 11:45:20</td>\n",
       "      <td>Bogucice Szpital</td>\n",
       "      <td>KTBS – Saint Etienne 1</td>\n",
       "      <td>846</td>\n",
       "    </tr>\n",
       "    <tr>\n",
       "      <th>4</th>\n",
       "      <td>58884</td>\n",
       "      <td>2018-04-01 11:29:51</td>\n",
       "      <td>2018-04-01 11:45:39</td>\n",
       "      <td>Bogucice Szpital</td>\n",
       "      <td>KTBS – Saint Etienne 1</td>\n",
       "      <td>948</td>\n",
       "    </tr>\n",
       "  </tbody>\n",
       "</table>\n",
       "</div>"
      ],
      "text/plain": [
       "   bike_num           start_time             end_time               departure  \\\n",
       "0     58388  2018-04-01 00:16:10  2018-04-01 00:20:17        Murapol Mariacka   \n",
       "1     58745  2018-04-01 00:10:28  2018-04-01 00:20:28        Murapol Mariacka   \n",
       "2     58547  2018-04-01 10:34:09  2018-04-01 10:41:38  KTBS – Krasińskiego 14   \n",
       "3     58786  2018-04-01 11:31:14  2018-04-01 11:45:20        Bogucice Szpital   \n",
       "4     58884  2018-04-01 11:29:51  2018-04-01 11:45:39        Bogucice Szpital   \n",
       "\n",
       "                   return  duration_sec  \n",
       "0  KTBS – Krasińskiego 14           247  \n",
       "1  KTBS – Krasińskiego 14           600  \n",
       "2          Katowice Rynek           449  \n",
       "3  KTBS – Saint Etienne 1           846  \n",
       "4  KTBS – Saint Etienne 1           948  "
      ]
     },
     "execution_count": 1253,
     "metadata": {},
     "output_type": "execute_result"
    }
   ],
   "source": [
    "#check it out\n",
    "df2018.head(5)"
   ]
  },
  {
   "cell_type": "code",
   "execution_count": 3,
   "metadata": {},
   "outputs": [],
   "source": [
    "#create additional TIME columns so it would be easier to manipulate the data\n",
    "df2018['start_day'] = pd.DatetimeIndex(df2018['start_time']).day\n",
    "df2018['start_month'] = pd.DatetimeIndex(df2018['start_time']).month\n",
    "df2018['start_hour'] = pd.DatetimeIndex(df2018['start_time']).hour\n",
    "df2018['start_minute'] = pd.DatetimeIndex(df2018['start_time']).minute\n",
    "df2018['month_day'] = pd.DatetimeIndex(df2018['start_time']).date\n",
    "df2018['duration_min'] = df2018['duration_sec']/60\n",
    "df2018['duration_hour'] = (df2018['duration_min']/60).apply(int)\n",
    "#which day of week was it? monday = 0, sunday = 6\n",
    "df2018['which_day'] = pd.DatetimeIndex(df2018['start_time']).dayofweek\n",
    "#which day of year was it?\n",
    "df2018['daynumber'] = pd.DatetimeIndex(df2018['start_time']).dayofyear\n",
    "#was it weekend?\n",
    "df2018['is_weekend'] = df2018['which_day'].apply(lambda x: 1 if (x == 6 or x == 5 ) else 0 )\n",
    "#was it a day of because of holidays/other events?\n",
    "free=[ datetime.date(2018,1,1),\n",
    "        datetime.date(2018,1,6),\n",
    "        datetime.date(2018,4,1),\n",
    "        datetime.date(2018,4,2),\n",
    "        datetime.date(2018,5,1),\n",
    "        datetime.date(2018,5,3),\n",
    "        datetime.date(2018,5,20),\n",
    "        datetime.date(2018,5,31),\n",
    "        datetime.date(2018,8,15),\n",
    "        datetime.date(2018,11,1),\n",
    "        datetime.date(2018,11,11),\n",
    "        datetime.date(2018,11,12),\n",
    "        datetime.date(2018,12,25),\n",
    "        datetime.date(2018,12,26)\n",
    "        ]\n",
    "df2018['is_free'] = df2018['month_day'].apply(lambda x: 1 if (x in free) else 0 )"
   ]
  },
  {
   "cell_type": "code",
   "execution_count": 6,
   "metadata": {},
   "outputs": [],
   "source": [
    "#create additional column for routes\n",
    "df2018[\"route\"] = df2018[\"departure\"] + ' - ' + df2018[\"return\"]"
   ]
  },
  {
   "cell_type": "markdown",
   "metadata": {},
   "source": [
    "<h3>Basic analysis."
   ]
  },
  {
   "cell_type": "markdown",
   "metadata": {},
   "source": [
    "<h3>Remove unnecessary data."
   ]
  },
  {
   "cell_type": "code",
   "execution_count": 10,
   "metadata": {},
   "outputs": [
    {
     "name": "stdout",
     "output_type": "stream",
     "text": [
      "Number of rentals that last < 3 minutes:  20363\n",
      "Percentage : 0.11 \n"
     ]
    }
   ],
   "source": [
    "#Before we start, we need to get rid of data that is disturbing our results. We assume, that if the bike was\n",
    "#returned after < 3 minutes, it might be damaged or someone just changed his mind\n",
    "to_dump = df2018[(df2018['duration_min'] < 3) & (df2018['departure'] == df2018['return'])].index\n",
    "\n",
    "print('Number of rentals that last < 3 minutes: ', df2018[(df2018['duration_min'] < 3) & (df2018['departure'] == df2018['return'])]['bike_num'].count())\n",
    "print('Percentage : {0:.2f} '.format(df2018[(df2018['duration_min'] < 3) & (df2018['departure'] == df2018['return'])]['bike_num'].count()/df2018['duration_min'].count()))"
   ]
  },
  {
   "cell_type": "code",
   "execution_count": 11,
   "metadata": {},
   "outputs": [
    {
     "data": {
      "text/plain": [
       "duration_hour\n",
       "0    165892\n",
       "1     17859\n",
       "2      6002\n",
       "3      2196\n",
       "4       741\n",
       "5       254\n",
       "6       117\n",
       "7        59\n",
       "8        32\n",
       "9        29\n",
       "Name: bike_num, dtype: int64"
      ]
     },
     "execution_count": 11,
     "metadata": {},
     "output_type": "execute_result"
    }
   ],
   "source": [
    "#for how long (in hours) are the bikes being rented?\n",
    "df2018.groupby('duration_hour')['bike_num'].count().head(10)"
   ]
  },
  {
   "cell_type": "code",
   "execution_count": 12,
   "metadata": {},
   "outputs": [
    {
     "name": "stdout",
     "output_type": "stream",
     "text": [
      "rentals that last more than 3 hours:  1379\n",
      "Percentage:  0.01 \n"
     ]
    }
   ],
   "source": [
    "#rentals that last more than 3 hours\n",
    "to_dump2 = df2018[df2018['duration_hour'] >3]['bike_num'].index\n",
    "print('rentals that last more than 3 hours: ', df2018[df2018['duration_hour'] >3]['bike_num'].count())\n",
    "print('Percentage:  {0:.2f} '.format(df2018[df2018['duration_hour'] >3]['bike_num'].count()/df2018['duration_hour'].count()))"
   ]
  },
  {
   "cell_type": "code",
   "execution_count": 13,
   "metadata": {},
   "outputs": [],
   "source": [
    "#let's remove the outliers\n",
    "#rentals that last more than 3 hours are less than 1% of dataset, we will remove them\n",
    "# we will also remove all rentals under 3 minutes\n",
    "df2018 = df2018.drop(to_dump.union(to_dump2))"
   ]
  },
  {
   "cell_type": "code",
   "execution_count": 1260,
   "metadata": {},
   "outputs": [],
   "source": [
    "#let's save what we have so far\n",
    "df2018.to_csv('wyp2018_add.csv')"
   ]
  },
  {
   "cell_type": "code",
   "execution_count": 1214,
   "metadata": {},
   "outputs": [
    {
     "data": {
      "text/plain": [
       "(171586, 17)"
      ]
     },
     "execution_count": 1214,
     "metadata": {},
     "output_type": "execute_result"
    }
   ],
   "source": [
    "#check out what's left\n",
    "df2018.shape"
   ]
  },
  {
   "cell_type": "markdown",
   "metadata": {},
   "source": [
    "<h3>Get general info."
   ]
  },
  {
   "cell_type": "code",
   "execution_count": 14,
   "metadata": {},
   "outputs": [
    {
     "name": "stdout",
     "output_type": "stream",
     "text": [
      "Bikes were available for 260 days.\n",
      "Bikes were available for 9 months.\n"
     ]
    }
   ],
   "source": [
    "#For how many days and months were the bikes available for rental?\n",
    "print('Bikes were available for {0} days.'.format(df2018['month_day'].nunique()))\n",
    "print('Bikes were available for {0} months.'.format(df2018['start_month'].nunique()))"
   ]
  },
  {
   "cell_type": "code",
   "execution_count": 16,
   "metadata": {},
   "outputs": [
    {
     "name": "stdout",
     "output_type": "stream",
     "text": [
      "420 bikes were available for rental.\n",
      "They were rented 171586 times.\n"
     ]
    }
   ],
   "source": [
    "#how many rentals and bikes were there?\n",
    "print('{0} bikes were available for rental.'.format(df2018['bike_num'].nunique()))\n",
    "print('They were rented {0} times.'.format(df2018['bike_num'].count()))"
   ]
  },
  {
   "cell_type": "code",
   "execution_count": 17,
   "metadata": {},
   "outputs": [
    {
     "name": "stdout",
     "output_type": "stream",
     "text": [
      "The average time of a rental is:\n"
     ]
    },
    {
     "data": {
      "text/plain": [
       "30.931685180220065"
      ]
     },
     "execution_count": 17,
     "metadata": {},
     "output_type": "execute_result"
    }
   ],
   "source": [
    "#The average time of a rental:\n",
    "print('The average time of a rental is:')\n",
    "df2018['duration_min'].mean()"
   ]
  },
  {
   "cell_type": "code",
   "execution_count": 18,
   "metadata": {},
   "outputs": [
    {
     "name": "stdout",
     "output_type": "stream",
     "text": [
      "The median of time of a rental is: \n"
     ]
    },
    {
     "data": {
      "text/plain": [
       "13.266666666666667"
      ]
     },
     "execution_count": 18,
     "metadata": {},
     "output_type": "execute_result"
    }
   ],
   "source": [
    "#the median\n",
    "print('The median of time of a rental is: ')\n",
    "df2018['duration_min'].median()"
   ]
  },
  {
   "cell_type": "code",
   "execution_count": 20,
   "metadata": {},
   "outputs": [
    {
     "name": "stdout",
     "output_type": "stream",
     "text": [
      "The number of rentals under 15 minutes (they were free): \n"
     ]
    },
    {
     "data": {
      "text/plain": [
       "94009"
      ]
     },
     "execution_count": 20,
     "metadata": {},
     "output_type": "execute_result"
    }
   ],
   "source": [
    "#rentals under 15 minutes\n",
    "print('The number of rentals under 15 minutes (they were free): ')\n",
    "df2018[df2018['duration_min'] < 15]['bike_num'].count()"
   ]
  },
  {
   "cell_type": "code",
   "execution_count": 21,
   "metadata": {},
   "outputs": [
    {
     "name": "stdout",
     "output_type": "stream",
     "text": [
      "Percentage of free rides: 0.55\n"
     ]
    }
   ],
   "source": [
    "#wypozyczenia ponizej 15 minut jako procent\n",
    "print('Percentage of free rides: {0:.2f}'.format(df2018[df2018['duration_min'] < 15]['bike_num'].count()/(df2018['bike_num'].count())))"
   ]
  },
  {
   "cell_type": "markdown",
   "metadata": {},
   "source": [
    "<h3>More detailed info."
   ]
  },
  {
   "cell_type": "code",
   "execution_count": 22,
   "metadata": {},
   "outputs": [
    {
     "name": "stdout",
     "output_type": "stream",
     "text": [
      "The number of rentals per month:\n",
      "start_month\n",
      "4     24514\n",
      "5     26042\n",
      "6     28372\n",
      "7     26670\n",
      "8     29263\n",
      "9     17238\n",
      "10    12101\n",
      "11     6224\n",
      "12     1162\n",
      "Name: bike_num, dtype: int64\n",
      "Most rentals in:  8\n"
     ]
    }
   ],
   "source": [
    "#number of rentals per month\n",
    "print('The number of rentals per month:')\n",
    "print(df2018.groupby('start_month')['bike_num'].count())\n",
    "print('Most rentals in: ', df2018.groupby('start_month')['bike_num'].count().sort_values(ascending=False).index[0])"
   ]
  },
  {
   "cell_type": "code",
   "execution_count": 23,
   "metadata": {},
   "outputs": [
    {
     "name": "stdout",
     "output_type": "stream",
     "text": [
      "The number of rentals per week:\n",
      "which_day\n",
      "0    24741\n",
      "1    24417\n",
      "2    25591\n",
      "3    24437\n",
      "4    23956\n",
      "5    23487\n",
      "6    24957\n",
      "Name: bike_num, dtype: int64\n",
      "Most rentals in:  2\n"
     ]
    }
   ],
   "source": [
    "#number of rentals per week\n",
    "print('The number of rentals per week:')\n",
    "print(df2018.groupby('which_day')['bike_num'].count())\n",
    "print('Most rentals in: ', df2018.groupby('which_day')['bike_num'].count().sort_values(ascending=False).index[0])"
   ]
  },
  {
   "cell_type": "code",
   "execution_count": 24,
   "metadata": {},
   "outputs": [
    {
     "name": "stdout",
     "output_type": "stream",
     "text": [
      "average time per week day:\n",
      "which_day\n",
      "0    26.027197\n",
      "1    25.450449\n",
      "2    26.362291\n",
      "3    27.659074\n",
      "4    25.495636\n",
      "5    38.667184\n",
      "6    46.984407\n",
      "Name: duration_min, dtype: float64\n"
     ]
    }
   ],
   "source": [
    "#average time per week day\n",
    "print('average time per week day:')\n",
    "print(df2018.groupby('which_day')['duration_min'].mean())"
   ]
  },
  {
   "cell_type": "code",
   "execution_count": 25,
   "metadata": {},
   "outputs": [
    {
     "name": "stdout",
     "output_type": "stream",
     "text": [
      "median time per week day:\n",
      "which_day\n",
      "0    11.950000\n",
      "1    11.750000\n",
      "2    11.850000\n",
      "3    12.250000\n",
      "4    11.916667\n",
      "5    18.016667\n",
      "6    25.850000\n",
      "Name: duration_min, dtype: float64\n"
     ]
    }
   ],
   "source": [
    "# median time per week day\n",
    "print('median time per week day:')\n",
    "print(df2018.groupby('which_day')['duration_min'].median())"
   ]
  },
  {
   "cell_type": "code",
   "execution_count": 26,
   "metadata": {},
   "outputs": [
    {
     "name": "stdout",
     "output_type": "stream",
     "text": [
      "Days with most rentals:\n"
     ]
    },
    {
     "data": {
      "text/plain": [
       "month_day\n",
       "2018-06-20    1322\n",
       "2018-08-15    1312\n",
       "2018-06-06    1304\n",
       "2018-06-07    1255\n",
       "2018-05-31    1247\n",
       "Name: bike_num, dtype: int64"
      ]
     },
     "execution_count": 26,
     "metadata": {},
     "output_type": "execute_result"
    }
   ],
   "source": [
    "#daily top score\n",
    "print('Days with most rentals:')\n",
    "df2018.groupby('month_day')['bike_num'].count().sort_values(ascending=False).head(5)"
   ]
  },
  {
   "cell_type": "code",
   "execution_count": 27,
   "metadata": {},
   "outputs": [
    {
     "data": {
      "text/plain": [
       "10"
      ]
     },
     "execution_count": 27,
     "metadata": {},
     "output_type": "execute_result"
    }
   ],
   "source": [
    "#how many holidays were there in 2018?\n",
    "df2018[df2018['is_free'] == 1].groupby('month_day').count().index.nunique()"
   ]
  },
  {
   "cell_type": "code",
   "execution_count": 30,
   "metadata": {},
   "outputs": [
    {
     "data": {
      "text/plain": [
       "6605"
      ]
     },
     "execution_count": 30,
     "metadata": {},
     "output_type": "execute_result"
    }
   ],
   "source": [
    "#how many rentals during holidays?\n",
    "df2018[df2018['is_free'] == 1]['bike_num'].count()"
   ]
  },
  {
   "cell_type": "code",
   "execution_count": 29,
   "metadata": {},
   "outputs": [
    {
     "name": "stdout",
     "output_type": "stream",
     "text": [
      "Percentage :  0.04\n"
     ]
    }
   ],
   "source": [
    "#how many rentals during holidays?\n",
    "print('Percentage :  {0:.2f}'.format(df2018[df2018['is_free'] == 1]['bike_num'].count()/(df2018['bike_num'].count())))"
   ]
  },
  {
   "cell_type": "code",
   "execution_count": 31,
   "metadata": {},
   "outputs": [
    {
     "name": "stdout",
     "output_type": "stream",
     "text": [
      "daily top score during holidays: \n"
     ]
    },
    {
     "data": {
      "text/plain": [
       "month_day\n",
       "2018-08-15    1312\n",
       "2018-05-31    1247\n",
       "2018-05-01    1173\n",
       "2018-05-20     927\n",
       "2018-05-03     841\n",
       "Name: bike_num, dtype: int64"
      ]
     },
     "execution_count": 31,
     "metadata": {},
     "output_type": "execute_result"
    }
   ],
   "source": [
    "#daily top score during holidays\n",
    "print('daily top score during holidays: ')\n",
    "df2018[df2018['is_free'] == 1].groupby('month_day')['bike_num'].count().sort_values(ascending=False).head(5)"
   ]
  },
  {
   "cell_type": "code",
   "execution_count": 32,
   "metadata": {},
   "outputs": [
    {
     "name": "stdout",
     "output_type": "stream",
     "text": [
      "average number of rentals during working days:  665.6324324324324\n",
      "average number of rentals during working weekends:  645.92\n",
      "average number of rentals during working holidays:  660.5\n"
     ]
    }
   ],
   "source": [
    "# average number of rentals during working days vs weekends vs holidays\n",
    "print('average number of rentals during working days: ', df2018[df2018['is_weekend'] == 0]['bike_num'].count() / df2018[df2018['which_day'].isin(range(0,5))]['month_day'].nunique())\n",
    "print('average number of rentals during weekends: ', df2018[df2018['is_weekend'] == 1]['bike_num'].count() / df2018[df2018['which_day'].isin([5,6])]['month_day'].nunique())\n",
    "print('average number of rentals during holidays: ', df2018[df2018['is_free'] == 1]['bike_num'].count() / df2018[df2018['is_free'] == 1].groupby('month_day').count().index.nunique())"
   ]
  },
  {
   "cell_type": "code",
   "execution_count": 33,
   "metadata": {},
   "outputs": [
    {
     "name": "stdout",
     "output_type": "stream",
     "text": [
      "average time of rentals during working days:  26.20290518263462\n",
      "average time of rentals during weekends:  42.9519854539948\n",
      "average time of rentals during holidays:  50.58347968710567\n"
     ]
    }
   ],
   "source": [
    "# average time (in minutes) of rentals during working days vs weekends vs holidays\n",
    "print('average time of rentals during working days: ', df2018[df2018['is_weekend'] == 0]['duration_min'].mean())\n",
    "print('average time of rentals during weekends: ', df2018[df2018['is_weekend'] == 1]['duration_min'].mean())\n",
    "print('average time of rentals during holidays: ', df2018[df2018['is_free'] == 1]['duration_min'].mean())"
   ]
  },
  {
   "cell_type": "code",
   "execution_count": 34,
   "metadata": {},
   "outputs": [
    {
     "data": {
      "text/html": [
       "<div>\n",
       "<style scoped>\n",
       "    .dataframe tbody tr th:only-of-type {\n",
       "        vertical-align: middle;\n",
       "    }\n",
       "\n",
       "    .dataframe tbody tr th {\n",
       "        vertical-align: top;\n",
       "    }\n",
       "\n",
       "    .dataframe thead th {\n",
       "        text-align: right;\n",
       "    }\n",
       "</style>\n",
       "<table border=\"1\" class=\"dataframe\">\n",
       "  <thead>\n",
       "    <tr style=\"text-align: right;\">\n",
       "      <th></th>\n",
       "      <th>hour</th>\n",
       "      <th>sum_working</th>\n",
       "      <th>sum_weekends</th>\n",
       "      <th>sum_holidays</th>\n",
       "      <th>avg_working</th>\n",
       "      <th>avg_weekends</th>\n",
       "      <th>avg_holidays</th>\n",
       "      <th>avg_time_working</th>\n",
       "      <th>avg_time_weekends</th>\n",
       "      <th>avg_time_hoidays</th>\n",
       "    </tr>\n",
       "  </thead>\n",
       "  <tbody>\n",
       "    <tr>\n",
       "      <th>0</th>\n",
       "      <td>0</td>\n",
       "      <td>1039</td>\n",
       "      <td>978</td>\n",
       "      <td>113</td>\n",
       "      <td>5.616216</td>\n",
       "      <td>13.040000</td>\n",
       "      <td>11.3</td>\n",
       "      <td>19.368640</td>\n",
       "      <td>22.637986</td>\n",
       "      <td>17.704720</td>\n",
       "    </tr>\n",
       "    <tr>\n",
       "      <th>1</th>\n",
       "      <td>1</td>\n",
       "      <td>621</td>\n",
       "      <td>712</td>\n",
       "      <td>72</td>\n",
       "      <td>3.356757</td>\n",
       "      <td>9.493333</td>\n",
       "      <td>7.2</td>\n",
       "      <td>24.315862</td>\n",
       "      <td>18.002528</td>\n",
       "      <td>19.511806</td>\n",
       "    </tr>\n",
       "    <tr>\n",
       "      <th>2</th>\n",
       "      <td>2</td>\n",
       "      <td>355</td>\n",
       "      <td>499</td>\n",
       "      <td>36</td>\n",
       "      <td>1.918919</td>\n",
       "      <td>6.653333</td>\n",
       "      <td>3.6</td>\n",
       "      <td>18.623333</td>\n",
       "      <td>19.280160</td>\n",
       "      <td>18.177778</td>\n",
       "    </tr>\n",
       "    <tr>\n",
       "      <th>3</th>\n",
       "      <td>3</td>\n",
       "      <td>314</td>\n",
       "      <td>354</td>\n",
       "      <td>34</td>\n",
       "      <td>1.697297</td>\n",
       "      <td>4.720000</td>\n",
       "      <td>3.4</td>\n",
       "      <td>15.067091</td>\n",
       "      <td>18.786158</td>\n",
       "      <td>15.368137</td>\n",
       "    </tr>\n",
       "    <tr>\n",
       "      <th>4</th>\n",
       "      <td>4</td>\n",
       "      <td>237</td>\n",
       "      <td>183</td>\n",
       "      <td>10</td>\n",
       "      <td>1.281081</td>\n",
       "      <td>2.440000</td>\n",
       "      <td>1.0</td>\n",
       "      <td>16.058087</td>\n",
       "      <td>16.296266</td>\n",
       "      <td>11.611667</td>\n",
       "    </tr>\n",
       "    <tr>\n",
       "      <th>5</th>\n",
       "      <td>5</td>\n",
       "      <td>659</td>\n",
       "      <td>182</td>\n",
       "      <td>17</td>\n",
       "      <td>3.562162</td>\n",
       "      <td>2.426667</td>\n",
       "      <td>1.7</td>\n",
       "      <td>11.231108</td>\n",
       "      <td>16.230861</td>\n",
       "      <td>35.865686</td>\n",
       "    </tr>\n",
       "    <tr>\n",
       "      <th>6</th>\n",
       "      <td>6</td>\n",
       "      <td>2965</td>\n",
       "      <td>203</td>\n",
       "      <td>21</td>\n",
       "      <td>16.027027</td>\n",
       "      <td>2.706667</td>\n",
       "      <td>2.1</td>\n",
       "      <td>11.447937</td>\n",
       "      <td>24.104762</td>\n",
       "      <td>16.554762</td>\n",
       "    </tr>\n",
       "    <tr>\n",
       "      <th>7</th>\n",
       "      <td>7</td>\n",
       "      <td>7121</td>\n",
       "      <td>348</td>\n",
       "      <td>31</td>\n",
       "      <td>38.491892</td>\n",
       "      <td>4.640000</td>\n",
       "      <td>3.1</td>\n",
       "      <td>12.745298</td>\n",
       "      <td>23.676102</td>\n",
       "      <td>20.901075</td>\n",
       "    </tr>\n",
       "    <tr>\n",
       "      <th>8</th>\n",
       "      <td>8</td>\n",
       "      <td>4808</td>\n",
       "      <td>561</td>\n",
       "      <td>70</td>\n",
       "      <td>25.989189</td>\n",
       "      <td>7.480000</td>\n",
       "      <td>7.0</td>\n",
       "      <td>14.951764</td>\n",
       "      <td>25.038800</td>\n",
       "      <td>27.954762</td>\n",
       "    </tr>\n",
       "    <tr>\n",
       "      <th>9</th>\n",
       "      <td>9</td>\n",
       "      <td>3919</td>\n",
       "      <td>1128</td>\n",
       "      <td>143</td>\n",
       "      <td>21.183784</td>\n",
       "      <td>15.040000</td>\n",
       "      <td>14.3</td>\n",
       "      <td>19.728608</td>\n",
       "      <td>36.715647</td>\n",
       "      <td>50.984965</td>\n",
       "    </tr>\n",
       "    <tr>\n",
       "      <th>10</th>\n",
       "      <td>10</td>\n",
       "      <td>3660</td>\n",
       "      <td>1808</td>\n",
       "      <td>296</td>\n",
       "      <td>19.783784</td>\n",
       "      <td>24.106667</td>\n",
       "      <td>29.6</td>\n",
       "      <td>25.410392</td>\n",
       "      <td>47.479904</td>\n",
       "      <td>57.130518</td>\n",
       "    </tr>\n",
       "    <tr>\n",
       "      <th>11</th>\n",
       "      <td>11</td>\n",
       "      <td>4436</td>\n",
       "      <td>2816</td>\n",
       "      <td>415</td>\n",
       "      <td>23.978378</td>\n",
       "      <td>37.546667</td>\n",
       "      <td>41.5</td>\n",
       "      <td>29.857195</td>\n",
       "      <td>54.231392</td>\n",
       "      <td>62.694980</td>\n",
       "    </tr>\n",
       "    <tr>\n",
       "      <th>12</th>\n",
       "      <td>12</td>\n",
       "      <td>5277</td>\n",
       "      <td>3310</td>\n",
       "      <td>524</td>\n",
       "      <td>28.524324</td>\n",
       "      <td>44.133333</td>\n",
       "      <td>52.4</td>\n",
       "      <td>29.430004</td>\n",
       "      <td>54.838454</td>\n",
       "      <td>67.336228</td>\n",
       "    </tr>\n",
       "    <tr>\n",
       "      <th>13</th>\n",
       "      <td>13</td>\n",
       "      <td>5912</td>\n",
       "      <td>3675</td>\n",
       "      <td>555</td>\n",
       "      <td>31.956757</td>\n",
       "      <td>49.000000</td>\n",
       "      <td>55.5</td>\n",
       "      <td>28.168440</td>\n",
       "      <td>53.279202</td>\n",
       "      <td>58.504234</td>\n",
       "    </tr>\n",
       "    <tr>\n",
       "      <th>14</th>\n",
       "      <td>14</td>\n",
       "      <td>7532</td>\n",
       "      <td>3789</td>\n",
       "      <td>594</td>\n",
       "      <td>40.713514</td>\n",
       "      <td>50.520000</td>\n",
       "      <td>59.4</td>\n",
       "      <td>26.011608</td>\n",
       "      <td>53.983219</td>\n",
       "      <td>64.389815</td>\n",
       "    </tr>\n",
       "    <tr>\n",
       "      <th>15</th>\n",
       "      <td>15</td>\n",
       "      <td>11087</td>\n",
       "      <td>4159</td>\n",
       "      <td>640</td>\n",
       "      <td>59.929730</td>\n",
       "      <td>55.453333</td>\n",
       "      <td>64.0</td>\n",
       "      <td>25.100740</td>\n",
       "      <td>51.719231</td>\n",
       "      <td>59.327266</td>\n",
       "    </tr>\n",
       "    <tr>\n",
       "      <th>16</th>\n",
       "      <td>16</td>\n",
       "      <td>12659</td>\n",
       "      <td>4301</td>\n",
       "      <td>662</td>\n",
       "      <td>68.427027</td>\n",
       "      <td>57.346667</td>\n",
       "      <td>66.2</td>\n",
       "      <td>26.857882</td>\n",
       "      <td>51.806436</td>\n",
       "      <td>57.530287</td>\n",
       "    </tr>\n",
       "    <tr>\n",
       "      <th>17</th>\n",
       "      <td>17</td>\n",
       "      <td>11382</td>\n",
       "      <td>4355</td>\n",
       "      <td>565</td>\n",
       "      <td>61.524324</td>\n",
       "      <td>58.066667</td>\n",
       "      <td>56.5</td>\n",
       "      <td>33.482238</td>\n",
       "      <td>48.300077</td>\n",
       "      <td>51.750236</td>\n",
       "    </tr>\n",
       "    <tr>\n",
       "      <th>18</th>\n",
       "      <td>18</td>\n",
       "      <td>10982</td>\n",
       "      <td>4115</td>\n",
       "      <td>567</td>\n",
       "      <td>59.362162</td>\n",
       "      <td>54.866667</td>\n",
       "      <td>56.7</td>\n",
       "      <td>34.967218</td>\n",
       "      <td>40.452228</td>\n",
       "      <td>44.009024</td>\n",
       "    </tr>\n",
       "    <tr>\n",
       "      <th>19</th>\n",
       "      <td>19</td>\n",
       "      <td>9595</td>\n",
       "      <td>3813</td>\n",
       "      <td>421</td>\n",
       "      <td>51.864865</td>\n",
       "      <td>50.840000</td>\n",
       "      <td>42.1</td>\n",
       "      <td>32.324733</td>\n",
       "      <td>34.246591</td>\n",
       "      <td>41.943310</td>\n",
       "    </tr>\n",
       "    <tr>\n",
       "      <th>20</th>\n",
       "      <td>20</td>\n",
       "      <td>7664</td>\n",
       "      <td>2973</td>\n",
       "      <td>376</td>\n",
       "      <td>41.427027</td>\n",
       "      <td>39.640000</td>\n",
       "      <td>37.6</td>\n",
       "      <td>27.545877</td>\n",
       "      <td>29.068141</td>\n",
       "      <td>31.405895</td>\n",
       "    </tr>\n",
       "    <tr>\n",
       "      <th>21</th>\n",
       "      <td>21</td>\n",
       "      <td>5326</td>\n",
       "      <td>1972</td>\n",
       "      <td>211</td>\n",
       "      <td>28.789189</td>\n",
       "      <td>26.293333</td>\n",
       "      <td>21.1</td>\n",
       "      <td>24.559350</td>\n",
       "      <td>27.174129</td>\n",
       "      <td>27.262164</td>\n",
       "    </tr>\n",
       "    <tr>\n",
       "      <th>22</th>\n",
       "      <td>22</td>\n",
       "      <td>3456</td>\n",
       "      <td>1273</td>\n",
       "      <td>122</td>\n",
       "      <td>18.681081</td>\n",
       "      <td>16.973333</td>\n",
       "      <td>12.2</td>\n",
       "      <td>20.951553</td>\n",
       "      <td>23.575111</td>\n",
       "      <td>13.924727</td>\n",
       "    </tr>\n",
       "    <tr>\n",
       "      <th>23</th>\n",
       "      <td>23</td>\n",
       "      <td>2136</td>\n",
       "      <td>937</td>\n",
       "      <td>110</td>\n",
       "      <td>11.545946</td>\n",
       "      <td>12.493333</td>\n",
       "      <td>11.0</td>\n",
       "      <td>20.564607</td>\n",
       "      <td>20.555443</td>\n",
       "      <td>22.339697</td>\n",
       "    </tr>\n",
       "  </tbody>\n",
       "</table>\n",
       "</div>"
      ],
      "text/plain": [
       "    hour  sum_working  sum_weekends  sum_holidays  avg_working  avg_weekends  \\\n",
       "0      0         1039           978           113     5.616216     13.040000   \n",
       "1      1          621           712            72     3.356757      9.493333   \n",
       "2      2          355           499            36     1.918919      6.653333   \n",
       "3      3          314           354            34     1.697297      4.720000   \n",
       "4      4          237           183            10     1.281081      2.440000   \n",
       "5      5          659           182            17     3.562162      2.426667   \n",
       "6      6         2965           203            21    16.027027      2.706667   \n",
       "7      7         7121           348            31    38.491892      4.640000   \n",
       "8      8         4808           561            70    25.989189      7.480000   \n",
       "9      9         3919          1128           143    21.183784     15.040000   \n",
       "10    10         3660          1808           296    19.783784     24.106667   \n",
       "11    11         4436          2816           415    23.978378     37.546667   \n",
       "12    12         5277          3310           524    28.524324     44.133333   \n",
       "13    13         5912          3675           555    31.956757     49.000000   \n",
       "14    14         7532          3789           594    40.713514     50.520000   \n",
       "15    15        11087          4159           640    59.929730     55.453333   \n",
       "16    16        12659          4301           662    68.427027     57.346667   \n",
       "17    17        11382          4355           565    61.524324     58.066667   \n",
       "18    18        10982          4115           567    59.362162     54.866667   \n",
       "19    19         9595          3813           421    51.864865     50.840000   \n",
       "20    20         7664          2973           376    41.427027     39.640000   \n",
       "21    21         5326          1972           211    28.789189     26.293333   \n",
       "22    22         3456          1273           122    18.681081     16.973333   \n",
       "23    23         2136           937           110    11.545946     12.493333   \n",
       "\n",
       "    avg_holidays  avg_time_working  avg_time_weekends  avg_time_hoidays  \n",
       "0           11.3         19.368640          22.637986         17.704720  \n",
       "1            7.2         24.315862          18.002528         19.511806  \n",
       "2            3.6         18.623333          19.280160         18.177778  \n",
       "3            3.4         15.067091          18.786158         15.368137  \n",
       "4            1.0         16.058087          16.296266         11.611667  \n",
       "5            1.7         11.231108          16.230861         35.865686  \n",
       "6            2.1         11.447937          24.104762         16.554762  \n",
       "7            3.1         12.745298          23.676102         20.901075  \n",
       "8            7.0         14.951764          25.038800         27.954762  \n",
       "9           14.3         19.728608          36.715647         50.984965  \n",
       "10          29.6         25.410392          47.479904         57.130518  \n",
       "11          41.5         29.857195          54.231392         62.694980  \n",
       "12          52.4         29.430004          54.838454         67.336228  \n",
       "13          55.5         28.168440          53.279202         58.504234  \n",
       "14          59.4         26.011608          53.983219         64.389815  \n",
       "15          64.0         25.100740          51.719231         59.327266  \n",
       "16          66.2         26.857882          51.806436         57.530287  \n",
       "17          56.5         33.482238          48.300077         51.750236  \n",
       "18          56.7         34.967218          40.452228         44.009024  \n",
       "19          42.1         32.324733          34.246591         41.943310  \n",
       "20          37.6         27.545877          29.068141         31.405895  \n",
       "21          21.1         24.559350          27.174129         27.262164  \n",
       "22          12.2         20.951553          23.575111         13.924727  \n",
       "23          11.0         20.564607          20.555443         22.339697  "
      ]
     },
     "execution_count": 34,
     "metadata": {},
     "output_type": "execute_result"
    }
   ],
   "source": [
    "#number of working days during which you could rent a bike\n",
    "lr = df2018[df2018['which_day'].isin(range(0,5))]['month_day'].nunique()\n",
    "#number of weekend days during which you could rent a bike\n",
    "lw = df2018[df2018['which_day'].isin([5,6])]['month_day'].nunique()\n",
    "#number of holidays during which you could rent a bike\n",
    "sw = df2018[df2018['is_free'] == 1].groupby('month_day').count().index.nunique()\n",
    "\n",
    "#sum of rentals for hour interval during working days\n",
    "a = df2018[df2018['is_weekend'] == False].groupby('start_hour')['bike_num'].count()\n",
    "#sum of rentals for hour interval during weekends\n",
    "b = df2018[df2018['is_weekend'] == True].groupby('start_hour')['bike_num'].count()\n",
    "#sum of rentals for hour interval during holidays\n",
    "s = df2018[df2018['is_free'] == True].groupby('start_hour')['bike_num'].count()\n",
    "\n",
    "#average number of rentals  during working days\n",
    "c = df2018[df2018['is_weekend'] == False].groupby('start_hour')['bike_num'].count() / lr\n",
    "#average number of rentals  during working weekends\n",
    "d = df2018[df2018['is_weekend'] == True].groupby('start_hour')['bike_num'].count() / lw\n",
    "#average number of rentals  during working holidays\n",
    "t = df2018[df2018['is_free'] == True].groupby('start_hour')['bike_num'].count() / sw\n",
    "\n",
    "#average time  of rentals  during working days\n",
    "e = df2018[df2018['is_weekend'] == False].groupby('start_hour')['duration_min'].sum() / df2018[df2018['is_weekend'] == False].groupby('start_hour')['bike_num'].count()\n",
    "#average time  of rentals  during working weekends\n",
    "f = df2018[df2018['is_weekend'] == True].groupby('start_hour')['duration_min'].sum() / df2018[df2018['is_weekend'] == True].groupby('start_hour')['bike_num'].count()\n",
    "#average time  of rentals  during working holidays\n",
    "u = df2018[df2018['is_free'] == True].groupby('start_hour')['duration_min'].sum() / df2018[df2018['is_free'] == True].groupby('start_hour')['bike_num'].count()\n",
    "\n",
    "hour_data = {'hour' : a.index, 'sum_working' : a.values, 'sum_weekends' : b.values, 'sum_holidays' : s.values,\n",
    "             'avg_working' : c.values, 'avg_weekends' : d.values, 'avg_holidays' : t.values,\n",
    "             'avg_time_working' : e.values, 'avg_time_weekends' : f.values, 'avg_time_hoidays' : u.values}\n",
    "\n",
    "hourdf = pd.DataFrame(data=hour_data)\n",
    "hourdf"
   ]
  },
  {
   "cell_type": "code",
   "execution_count": 35,
   "metadata": {},
   "outputs": [
    {
     "name": "stdout",
     "output_type": "stream",
     "text": [
      "most popular departure stations: \n"
     ]
    },
    {
     "data": {
      "text/plain": [
       "departure\n",
       "Katowice Rynek                27493\n",
       "Silesia City Center            8750\n",
       "KTBS – Krasińskiego 14         8381\n",
       "Murapol Mariacka               7775\n",
       "Al. Bolesława Krzywoustego     6526\n",
       "Name: bike_num, dtype: int64"
      ]
     },
     "execution_count": 35,
     "metadata": {},
     "output_type": "execute_result"
    }
   ],
   "source": [
    "#most popular departure station\n",
    "print('most popular departure stations: ')\n",
    "df2018.groupby('departure')['bike_num'].count().sort_values(ascending=False).head()"
   ]
  },
  {
   "cell_type": "code",
   "execution_count": 36,
   "metadata": {},
   "outputs": [
    {
     "name": "stdout",
     "output_type": "stream",
     "text": [
      "most popular return stations: \n"
     ]
    },
    {
     "data": {
      "text/plain": [
       "return\n",
       "Katowice Rynek                29084\n",
       "KTBS – Krasińskiego 14         8236\n",
       "Murapol Mariacka               8083\n",
       "Silesia City Center            8082\n",
       "Al. Bolesława Krzywoustego     7227\n",
       "Name: bike_num, dtype: int64"
      ]
     },
     "execution_count": 36,
     "metadata": {},
     "output_type": "execute_result"
    }
   ],
   "source": [
    "#most popular return station\n",
    "print('most popular return stations: ')\n",
    "df2018.groupby('return')['bike_num'].count().sort_values(ascending=False).head()"
   ]
  },
  {
   "cell_type": "code",
   "execution_count": 38,
   "metadata": {},
   "outputs": [
    {
     "name": "stdout",
     "output_type": "stream",
     "text": [
      "most popular routes: \n"
     ]
    },
    {
     "data": {
      "text/plain": [
       "route\n",
       "Katowice Rynek - Katowice Rynek                                  3807\n",
       "KTBS – Krasińskiego 14 - Katowice Rynek                          3418\n",
       "Dolina 3-ch Stawów - Dolina 3-ch Stawów                          3253\n",
       "Katowice Rynek - KTBS – Krasińskiego 14                          3207\n",
       "Al. Księcia Henryka Pobożnego - Al. Księcia Henryka Pobożnego    2806\n",
       "Name: bike_num, dtype: int64"
      ]
     },
     "execution_count": 38,
     "metadata": {},
     "output_type": "execute_result"
    }
   ],
   "source": [
    "#most popular routes\n",
    "print('most popular routes: ')\n",
    "df2018.groupby('route')['bike_num'].count().sort_values(ascending=False).head()"
   ]
  },
  {
   "cell_type": "code",
   "execution_count": 39,
   "metadata": {},
   "outputs": [
    {
     "name": "stdout",
     "output_type": "stream",
     "text": [
      "most popular routes where departure != return: \n"
     ]
    },
    {
     "data": {
      "text/plain": [
       "route\n",
       "KTBS – Krasińskiego 14 - Katowice Rynek    3418\n",
       "Katowice Rynek - KTBS – Krasińskiego 14    3207\n",
       "Silesia City Center - Katowice Rynek       2289\n",
       "Katowice Rynek - Murapol Mariacka          1995\n",
       "Katowice Rynek - Silesia City Center       1797\n",
       "Name: bike_num, dtype: int64"
      ]
     },
     "execution_count": 39,
     "metadata": {},
     "output_type": "execute_result"
    }
   ],
   "source": [
    "#most popular routes where departure != return\n",
    "print('most popular routes where departure != return: ')\n",
    "df2018[df2018['departure'] != df2018['return']].groupby('route')['bike_num'].count().sort_values(ascending=False).head()"
   ]
  },
  {
   "cell_type": "code",
   "execution_count": 40,
   "metadata": {},
   "outputs": [
    {
     "name": "stdout",
     "output_type": "stream",
     "text": [
      "ID of most rented bike and number of its rentals: \n"
     ]
    },
    {
     "data": {
      "text/plain": [
       "bike_num\n",
       "58463    772\n",
       "Name: duration_sec, dtype: int64"
      ]
     },
     "execution_count": 40,
     "metadata": {},
     "output_type": "execute_result"
    }
   ],
   "source": [
    "#most rented bike\n",
    "print('ID of most rented bike and number of its rentals: ')\n",
    "df2018.groupby('bike_num')['duration_sec'].count().sort_values(ascending=False).head(1)"
   ]
  }
 ],
 "metadata": {
  "kernelspec": {
   "display_name": "Python 3",
   "language": "python",
   "name": "python3"
  },
  "language_info": {
   "codemirror_mode": {
    "name": "ipython",
    "version": 3
   },
   "file_extension": ".py",
   "mimetype": "text/x-python",
   "name": "python",
   "nbconvert_exporter": "python",
   "pygments_lexer": "ipython3",
   "version": "3.7.3"
  }
 },
 "nbformat": 4,
 "nbformat_minor": 2
}
