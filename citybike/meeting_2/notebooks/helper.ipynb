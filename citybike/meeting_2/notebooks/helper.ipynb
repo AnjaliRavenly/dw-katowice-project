{
 "cells": [
  {
   "cell_type": "code",
   "execution_count": 1,
   "metadata": {},
   "outputs": [],
   "source": [
    "import pandas as pd\n",
    "import matplotlib.pyplot as plt\n",
    "%matplotlib inline\n",
    "import mplleaflet\n",
    "from geopy.distance import geodesic"
   ]
  },
  {
   "cell_type": "markdown",
   "metadata": {},
   "source": [
    "<h3>How to merge dataframes?"
   ]
  },
  {
   "cell_type": "markdown",
   "metadata": {},
   "source": [
    "**pd.merge(df1, df2, left_on=df['column_name'], right_on=df2['column_name'])**\n",
    "\n",
    "where:\n",
    "**df1** - first DataFrame\n",
    "\n",
    "**df2** - second DataFrame\n",
    "\n",
    "**left_on** : label or list, or array-like\n",
    "    Column or index level names to join on in the left DataFrame. Can also\n",
    "    be an array or list of arrays of the length of the left DataFrame.\n",
    "    These arrays are treated as if they are columns.\n",
    "    \n",
    "**right_on** : label or list, or array-like\n",
    "    Column or index level names to join on in the right DataFrame. Can also\n",
    "    be an array or list of arrays of the length of the right DataFrame.\n",
    "    These arrays are treated as if they are columns.\n",
    "    \n",
    "**how** : {'left', 'right', 'outer', 'inner'}, default 'inner'\n",
    "    Type of merge to be performed.\n",
    "\n",
    "    * left: use only keys from left frame, similar to a SQL left outer join;\n",
    "      preserve key order.\n",
    "    * right: use only keys from right frame, similar to a SQL right outer join;\n",
    "      preserve key order.\n",
    "    * outer: use union of keys from both frames, similar to a SQL full outer\n",
    "      join; sort keys lexicographically.\n",
    "    * inner: use intersection of keys from both frames, similar to a SQL inner\n",
    "      join; preserve the order of the left keys.\n"
   ]
  },
  {
   "cell_type": "markdown",
   "metadata": {},
   "source": [
    "<h3>How to count distance between points?"
   ]
  },
  {
   "cell_type": "markdown",
   "metadata": {},
   "source": [
    "use **geodesic( [x1, y1] , [x2, y2] ).km**, example:"
   ]
  },
  {
   "cell_type": "code",
   "execution_count": 3,
   "metadata": {},
   "outputs": [
    {
     "data": {
      "text/plain": [
       "222.61581600684684"
      ]
     },
     "execution_count": 3,
     "metadata": {},
     "output_type": "execute_result"
    }
   ],
   "source": [
    "geodesic( [ 52.258697,19.121618 ]  , [ 50.258697,19.021618 ] ).km"
   ]
  },
  {
   "cell_type": "markdown",
   "metadata": {},
   "source": [
    "<h3>How to plot on map with matplotlib?"
   ]
  },
  {
   "cell_type": "code",
   "execution_count": 7,
   "metadata": {},
   "outputs": [
    {
     "data": {
      "text/html": [
       "<iframe src=\"data:text/html;base64,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\" width=\"100%\" height=\"600\"></iframe>"
      ],
      "text/plain": [
       "<IPython.core.display.HTML object>"
      ]
     },
     "execution_count": 7,
     "metadata": {},
     "output_type": "execute_result"
    }
   ],
   "source": [
    "#Create a new figure.\n",
    "fig = plt.figure(figsize=(20,10))\n",
    "\n",
    "#A scatter plot of *y* vs *x* with varying marker size and/or color.\n",
    "plt.scatter( 19.021618, 50.258697, color='red', s=100)\n",
    "\n",
    "#Convert a Matplotlib Figure to a Leafle\n",
    "mplleaflet.display(fig=fig)"
   ]
  }
 ],
 "metadata": {
  "kernelspec": {
   "display_name": "Python 3",
   "language": "python",
   "name": "python3"
  },
  "language_info": {
   "codemirror_mode": {
    "name": "ipython",
    "version": 3
   },
   "file_extension": ".py",
   "mimetype": "text/x-python",
   "name": "python",
   "nbconvert_exporter": "python",
   "pygments_lexer": "ipython3",
   "version": "3.7.3"
  }
 },
 "nbformat": 4,
 "nbformat_minor": 2
}
