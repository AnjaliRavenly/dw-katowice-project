{
 "cells": [
  {
   "cell_type": "markdown",
   "metadata": {},
   "source": [
    "# weatherAPI w oparciu o artykuł (jest github):"
   ]
  },
  {
   "cell_type": "markdown",
   "metadata": {},
   "source": [
    "artykuł - https://towardsdatascience.com/obtain-historical-weather-forecast-data-in-csv-format-using-python-5a6c090fc828\n",
    "\n",
    "Dostępne dane pogodowe: <br>\n",
    "date_time, maxtempC, mintempC, totalSnow_cm, sunHour, uvIndex, uvIndex, moon_illumination, moonrise, moonset, sunrise, sunset, DewPointC, FeelsLikeC, HeatIndexC, WindChillC, WindGustKmph, cloudcover, humidity, precipMM, pressure, tempC, visibility, winddirDegree, windspeedKmph"
   ]
  },
  {
   "cell_type": "code",
   "execution_count": 3,
   "metadata": {},
   "outputs": [
    {
     "name": "stdout",
     "output_type": "stream",
     "text": [
      "Collecting wwo-hist\n",
      "  Downloading https://files.pythonhosted.org/packages/9e/4b/e4f82813f1bd33195ca5eca204c7c312850592aba45dd819de0f2250d7fd/wwo_hist-0.0.4.tar.gz\n",
      "Building wheels for collected packages: wwo-hist\n",
      "  Building wheel for wwo-hist (setup.py) ... \u001b[?25ldone\n",
      "\u001b[?25h  Stored in directory: /home/rafalblaszczyk/.cache/pip/wheels/c5/0e/16/329d9233f3b0b7e5fe81b09c5519a193727999c6ae77577ca9\n",
      "Successfully built wwo-hist\n",
      "Installing collected packages: wwo-hist\n",
      "Successfully installed wwo-hist-0.0.4\n",
      "Note: you may need to restart the kernel to use updated packages.\n"
     ]
    }
   ],
   "source": [
    "pip install wwo-hist"
   ]
  },
  {
   "cell_type": "markdown",
   "metadata": {},
   "source": [
    "Instalacja pakietu:"
   ]
  },
  {
   "cell_type": "code",
   "execution_count": 1,
   "metadata": {},
   "outputs": [],
   "source": [
    "from wwo_hist import retrieve_hist_data"
   ]
  },
  {
   "cell_type": "markdown",
   "metadata": {},
   "source": [
    "Utworzenie zmiennej środowiskowej, gdzie zostanie zapisany plik csv z pobranymi danymi:"
   ]
  },
  {
   "cell_type": "code",
   "execution_count": 2,
   "metadata": {},
   "outputs": [],
   "source": [
    "import os\n",
    "os.chdir(\"/home/rafalblaszczyk/DataWorkshop/Club/Projekty/Rowery/data\")"
   ]
  },
  {
   "cell_type": "markdown",
   "metadata": {},
   "source": [
    "Pobranie klucza API po zarejestowaniu się na stronie https://www.worldweatheronline.com/developer/:"
   ]
  },
  {
   "cell_type": "code",
   "execution_count": 3,
   "metadata": {},
   "outputs": [],
   "source": [
    "# start date 10.12.19\n",
    "api_key = ''"
   ]
  },
  {
   "cell_type": "markdown",
   "metadata": {},
   "source": [
    "Uruchomienie skryptu, gdzie można parametryzować:\n",
    "- frequency - częstotliwość pobierania informacji od 1 do 24\n",
    "- start_date - data rozpoczęcia pobierania danych\n",
    "- end_date - data końca pobierania danych\n",
    "- location_list - list lokalizacji"
   ]
  },
  {
   "cell_type": "code",
   "execution_count": 4,
   "metadata": {},
   "outputs": [
    {
     "name": "stdout",
     "output_type": "stream",
     "text": [
      "\n",
      "\n",
      "Retrieving weather data for katowice\n",
      "\n",
      "\n",
      "Currently retrieving data for katowice: from 2018-12-11 to 2018-12-12\n",
      "Time elapsed (hh:mm:ss.ms) 0:00:00.266550\n",
      "\n",
      "\n",
      "export katowice completed!\n",
      "\n",
      "\n"
     ]
    }
   ],
   "source": [
    "frequency =  # 24 - daily average temperature\n",
    "start_date = '11-DEC-2018'\n",
    "end_date = '12-DEC-2018'\n",
    "api_key = api_key\n",
    "location_list = ['katowice']\n",
    "hist_weather_data = retrieve_hist_data(api_key,\n",
    "                                location_list,\n",
    "                                start_date,\n",
    "                                end_date,\n",
    "                                frequency,\n",
    "                                location_label = False,\n",
    "                                export_csv = True,\n",
    "                                store_df = True)"
   ]
  },
  {
   "cell_type": "code",
   "execution_count": null,
   "metadata": {},
   "outputs": [],
   "source": []
  }
 ],
 "metadata": {
  "kernelspec": {
   "display_name": "Python 3",
   "language": "python",
   "name": "python3"
  },
  "language_info": {
   "codemirror_mode": {
    "name": "ipython",
    "version": 3
   },
   "file_extension": ".py",
   "mimetype": "text/x-python",
   "name": "python",
   "nbconvert_exporter": "python",
   "pygments_lexer": "ipython3",
   "version": "3.7.3"
  }
 },
 "nbformat": 4,
 "nbformat_minor": 2
}
